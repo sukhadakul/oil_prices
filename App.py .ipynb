{
 "cells": [
  {
   "cell_type": "code",
   "execution_count": 5,
   "id": "bc21145d",
   "metadata": {
    "ExecuteTime": {
     "end_time": "2023-08-20T09:57:15.046813Z",
     "start_time": "2023-08-20T09:57:14.224861Z"
    }
   },
   "outputs": [
    {
     "name": "stderr",
     "output_type": "stream",
     "text": [
      "C:\\Users\\Shubhajinkya\\ANACONDA\\install2\\install\\lib\\site-packages\\sklearn\\base.py:464: UserWarning: X does not have valid feature names, but MinMaxScaler was fitted with feature names\n",
      "  warnings.warn(\n"
     ]
    },
    {
     "name": "stdout",
     "output_type": "stream",
     "text": [
      "1/1 [==============================] - 0s 413ms/step\n"
     ]
    }
   ],
   "source": [
    "import streamlit as st\n",
    "import numpy as np\n",
    "import pickle\n",
    "from tensorflow.keras.models import load_model\n",
    "from sklearn.preprocessing import MinMaxScaler\n",
    "\n",
    "# Load the model\n",
    "model_gru = load_model('trained_model.h5')\n",
    "\n",
    "# Load the scaler using pickle\n",
    "with open('scaler.pkl', 'rb') as scaler_file:\n",
    "    scaler = pickle.load(scaler_file)\n",
    "\n",
    "st.title('Crude Oil Price Forecasting')\n",
    "\n",
    "# Input for the last 10 days' prices\n",
    "st.write(\"Enter the last 10 days' prices:\")\n",
    "input_prices = []\n",
    "\n",
    "for i in range(10):\n",
    "    day_price = st.number_input(f'Day {i+1} Price', value=18.55)\n",
    "    input_prices.append(day_price)\n",
    "\n",
    "# Scale the input using the loaded scaler\n",
    "scaled_input = scaler.transform(np.array(input_prices).reshape(-1, 1))\n",
    "\n",
    "# Reshape the input for the model\n",
    "input_data = scaled_input.reshape(1, 10, 1)  # Adjust the input shape according to your model\n",
    "\n",
    "# Make predictions\n",
    "predicted_scaled_price = model_gru.predict(input_data)\n",
    "predicted_price = scaler.inverse_transform(predicted_scaled_price)\n",
    "\n",
    "st.write(\"Predicted Crude Oil Price for the Next Time Step:\")\n",
    "st.write(predicted_price[0][0])\n"
   ]
  },
  {
   "cell_type": "code",
   "execution_count": null,
   "id": "a01c42ce",
   "metadata": {},
   "outputs": [],
   "source": []
  }
 ],
 "metadata": {
  "kernelspec": {
   "display_name": "Python 3 (ipykernel)",
   "language": "python",
   "name": "python3"
  },
  "language_info": {
   "codemirror_mode": {
    "name": "ipython",
    "version": 3
   },
   "file_extension": ".py",
   "mimetype": "text/x-python",
   "name": "python",
   "nbconvert_exporter": "python",
   "pygments_lexer": "ipython3",
   "version": "3.10.9"
  }
 },
 "nbformat": 4,
 "nbformat_minor": 5
}
