{
 "cells": [
  {
   "cell_type": "markdown",
   "id": "dc5a0c4a",
   "metadata": {
    "id": "dc5a0c4a"
   },
   "source": [
    "### Importing the library's"
   ]
  },
  {
   "cell_type": "code",
   "execution_count": 55,
   "id": "fd93aee7",
   "metadata": {
    "ExecuteTime": {
     "end_time": "2023-08-20T08:49:07.720071Z",
     "start_time": "2023-08-20T08:49:07.704004Z"
    },
    "executionInfo": {
     "elapsed": 6214,
     "status": "ok",
     "timestamp": 1691987277637,
     "user": {
      "displayName": "Lavkush Chaudhary",
      "userId": "01013648497488669597"
     },
     "user_tz": -330
    },
    "id": "fd93aee7"
   },
   "outputs": [],
   "source": [
    "import pandas as pd\n",
    "import numpy as np\n",
    "import seaborn as sns\n",
    "import matplotlib.pyplot as plt\n",
    "from statsmodels.graphics.tsaplots import plot_acf\n",
    "from pandas.plotting import lag_plot\n",
    "import statsmodels.api as sm\n",
    "from scipy import stats\n",
    "import requests\n",
    "import statsmodels.formula.api as smf\n",
    "from statsmodels.tsa.arima.model import ARIMA\n",
    "from sklearn.metrics import mean_absolute_error\n",
    "from sklearn.metrics import mean_squared_error\n",
    "from sklearn.preprocessing import MinMaxScaler\n",
    "from tensorflow.keras.models import Sequential\n",
    "from tensorflow.keras.layers import LSTM, Dense  "
   ]
  },
  {
   "cell_type": "markdown",
   "id": "5f46f47e",
   "metadata": {
    "id": "5f46f47e"
   },
   "source": [
    "### Getting the data from the website named :alphavantage"
   ]
  },
  {
   "cell_type": "code",
   "execution_count": 56,
   "id": "6dd2c753",
   "metadata": {
    "ExecuteTime": {
     "end_time": "2023-08-20T08:49:12.336513Z",
     "start_time": "2023-08-20T08:49:10.137079Z"
    },
    "executionInfo": {
     "elapsed": 50,
     "status": "ok",
     "timestamp": 1691987277639,
     "user": {
      "displayName": "Lavkush Chaudhary",
      "userId": "01013648497488669597"
     },
     "user_tz": -330
    },
    "id": "6dd2c753",
    "scrolled": false
   },
   "outputs": [],
   "source": [
    "url = 'https://www.alphavantage.co/query?function=BRENT&interval=daily&apikey=G47FZC6JH4IKPIFO'\n",
    "r = requests.get(url)\n",
    "data = r.json() "
   ]
  },
  {
   "cell_type": "code",
   "execution_count": 57,
   "id": "095a89c4",
   "metadata": {
    "ExecuteTime": {
     "end_time": "2023-08-20T08:49:12.402751Z",
     "start_time": "2023-08-20T08:49:12.336513Z"
    },
    "colab": {
     "base_uri": "https://localhost:8080/",
     "height": 423
    },
    "executionInfo": {
     "elapsed": 47,
     "status": "ok",
     "timestamp": 1691987277640,
     "user": {
      "displayName": "Lavkush Chaudhary",
      "userId": "01013648497488669597"
     },
     "user_tz": -330
    },
    "id": "095a89c4",
    "outputId": "575ce2f1-4b38-4284-fa97-cdaf2a4c081f",
    "scrolled": false
   },
   "outputs": [
    {
     "data": {
      "text/html": [
       "<div>\n",
       "<style scoped>\n",
       "    .dataframe tbody tr th:only-of-type {\n",
       "        vertical-align: middle;\n",
       "    }\n",
       "\n",
       "    .dataframe tbody tr th {\n",
       "        vertical-align: top;\n",
       "    }\n",
       "\n",
       "    .dataframe thead th {\n",
       "        text-align: right;\n",
       "    }\n",
       "</style>\n",
       "<table border=\"1\" class=\"dataframe\">\n",
       "  <thead>\n",
       "    <tr style=\"text-align: right;\">\n",
       "      <th></th>\n",
       "      <th>name</th>\n",
       "      <th>interval</th>\n",
       "      <th>unit</th>\n",
       "      <th>data</th>\n",
       "    </tr>\n",
       "  </thead>\n",
       "  <tbody>\n",
       "    <tr>\n",
       "      <th>0</th>\n",
       "      <td>Crude Oil Prices Brent</td>\n",
       "      <td>daily</td>\n",
       "      <td>dollars per barrel</td>\n",
       "      <td>{'date': '2023-08-14', 'value': '87.4'}</td>\n",
       "    </tr>\n",
       "    <tr>\n",
       "      <th>1</th>\n",
       "      <td>Crude Oil Prices Brent</td>\n",
       "      <td>daily</td>\n",
       "      <td>dollars per barrel</td>\n",
       "      <td>{'date': '2023-08-11', 'value': '87.93'}</td>\n",
       "    </tr>\n",
       "    <tr>\n",
       "      <th>2</th>\n",
       "      <td>Crude Oil Prices Brent</td>\n",
       "      <td>daily</td>\n",
       "      <td>dollars per barrel</td>\n",
       "      <td>{'date': '2023-08-10', 'value': '87.44'}</td>\n",
       "    </tr>\n",
       "    <tr>\n",
       "      <th>3</th>\n",
       "      <td>Crude Oil Prices Brent</td>\n",
       "      <td>daily</td>\n",
       "      <td>dollars per barrel</td>\n",
       "      <td>{'date': '2023-08-09', 'value': '89.31'}</td>\n",
       "    </tr>\n",
       "    <tr>\n",
       "      <th>4</th>\n",
       "      <td>Crude Oil Prices Brent</td>\n",
       "      <td>daily</td>\n",
       "      <td>dollars per barrel</td>\n",
       "      <td>{'date': '2023-08-08', 'value': '88.0'}</td>\n",
       "    </tr>\n",
       "    <tr>\n",
       "      <th>...</th>\n",
       "      <td>...</td>\n",
       "      <td>...</td>\n",
       "      <td>...</td>\n",
       "      <td>...</td>\n",
       "    </tr>\n",
       "    <tr>\n",
       "      <th>9449</th>\n",
       "      <td>Crude Oil Prices Brent</td>\n",
       "      <td>daily</td>\n",
       "      <td>dollars per barrel</td>\n",
       "      <td>{'date': '1987-05-26', 'value': '18.63'}</td>\n",
       "    </tr>\n",
       "    <tr>\n",
       "      <th>9450</th>\n",
       "      <td>Crude Oil Prices Brent</td>\n",
       "      <td>daily</td>\n",
       "      <td>dollars per barrel</td>\n",
       "      <td>{'date': '1987-05-25', 'value': '18.60'}</td>\n",
       "    </tr>\n",
       "    <tr>\n",
       "      <th>9451</th>\n",
       "      <td>Crude Oil Prices Brent</td>\n",
       "      <td>daily</td>\n",
       "      <td>dollars per barrel</td>\n",
       "      <td>{'date': '1987-05-22', 'value': '18.55'}</td>\n",
       "    </tr>\n",
       "    <tr>\n",
       "      <th>9452</th>\n",
       "      <td>Crude Oil Prices Brent</td>\n",
       "      <td>daily</td>\n",
       "      <td>dollars per barrel</td>\n",
       "      <td>{'date': '1987-05-21', 'value': '18.45'}</td>\n",
       "    </tr>\n",
       "    <tr>\n",
       "      <th>9453</th>\n",
       "      <td>Crude Oil Prices Brent</td>\n",
       "      <td>daily</td>\n",
       "      <td>dollars per barrel</td>\n",
       "      <td>{'date': '1987-05-20', 'value': '18.63'}</td>\n",
       "    </tr>\n",
       "  </tbody>\n",
       "</table>\n",
       "<p>9454 rows × 4 columns</p>\n",
       "</div>"
      ],
      "text/plain": [
       "                        name interval                unit  \\\n",
       "0     Crude Oil Prices Brent    daily  dollars per barrel   \n",
       "1     Crude Oil Prices Brent    daily  dollars per barrel   \n",
       "2     Crude Oil Prices Brent    daily  dollars per barrel   \n",
       "3     Crude Oil Prices Brent    daily  dollars per barrel   \n",
       "4     Crude Oil Prices Brent    daily  dollars per barrel   \n",
       "...                      ...      ...                 ...   \n",
       "9449  Crude Oil Prices Brent    daily  dollars per barrel   \n",
       "9450  Crude Oil Prices Brent    daily  dollars per barrel   \n",
       "9451  Crude Oil Prices Brent    daily  dollars per barrel   \n",
       "9452  Crude Oil Prices Brent    daily  dollars per barrel   \n",
       "9453  Crude Oil Prices Brent    daily  dollars per barrel   \n",
       "\n",
       "                                          data  \n",
       "0      {'date': '2023-08-14', 'value': '87.4'}  \n",
       "1     {'date': '2023-08-11', 'value': '87.93'}  \n",
       "2     {'date': '2023-08-10', 'value': '87.44'}  \n",
       "3     {'date': '2023-08-09', 'value': '89.31'}  \n",
       "4      {'date': '2023-08-08', 'value': '88.0'}  \n",
       "...                                        ...  \n",
       "9449  {'date': '1987-05-26', 'value': '18.63'}  \n",
       "9450  {'date': '1987-05-25', 'value': '18.60'}  \n",
       "9451  {'date': '1987-05-22', 'value': '18.55'}  \n",
       "9452  {'date': '1987-05-21', 'value': '18.45'}  \n",
       "9453  {'date': '1987-05-20', 'value': '18.63'}  \n",
       "\n",
       "[9454 rows x 4 columns]"
      ]
     },
     "execution_count": 57,
     "metadata": {},
     "output_type": "execute_result"
    }
   ],
   "source": [
    "df = pd.DataFrame(data)\n",
    "df"
   ]
  },
  {
   "cell_type": "markdown",
   "id": "c728596a",
   "metadata": {
    "id": "c728596a"
   },
   "source": [
    "### Extraxting only the data column from hole dataset"
   ]
  },
  {
   "cell_type": "code",
   "execution_count": 62,
   "id": "47aa3187",
   "metadata": {
    "ExecuteTime": {
     "end_time": "2023-08-20T08:49:37.261822Z",
     "start_time": "2023-08-20T08:49:37.246185Z"
    },
    "executionInfo": {
     "elapsed": 43,
     "status": "ok",
     "timestamp": 1691987277641,
     "user": {
      "displayName": "Lavkush Chaudhary",
      "userId": "01013648497488669597"
     },
     "user_tz": -330
    },
    "id": "47aa3187"
   },
   "outputs": [],
   "source": [
    "df2 = df[['data']] "
   ]
  },
  {
   "cell_type": "code",
   "execution_count": 63,
   "id": "ea395e7e",
   "metadata": {
    "ExecuteTime": {
     "end_time": "2023-08-20T08:49:39.265328Z",
     "start_time": "2023-08-20T08:49:39.228093Z"
    },
    "colab": {
     "base_uri": "https://localhost:8080/"
    },
    "executionInfo": {
     "elapsed": 43,
     "status": "ok",
     "timestamp": 1691987277642,
     "user": {
      "displayName": "Lavkush Chaudhary",
      "userId": "01013648497488669597"
     },
     "user_tz": -330
    },
    "id": "ea395e7e",
    "outputId": "c261ff58-1d58-4cc4-d386-59d90d7a79e1",
    "scrolled": true
   },
   "outputs": [
    {
     "name": "stdout",
     "output_type": "stream",
     "text": [
      "<class 'pandas.core.frame.DataFrame'>\n",
      "RangeIndex: 9454 entries, 0 to 9453\n",
      "Data columns (total 1 columns):\n",
      " #   Column  Non-Null Count  Dtype \n",
      "---  ------  --------------  ----- \n",
      " 0   data    9454 non-null   object\n",
      "dtypes: object(1)\n",
      "memory usage: 74.0+ KB\n"
     ]
    }
   ],
   "source": [
    "df2.info()"
   ]
  },
  {
   "cell_type": "markdown",
   "id": "774fc608",
   "metadata": {
    "id": "774fc608"
   },
   "source": [
    "### Modifiying the data into suitable form"
   ]
  },
  {
   "cell_type": "code",
   "execution_count": 64,
   "id": "09017b0a",
   "metadata": {
    "ExecuteTime": {
     "end_time": "2023-08-20T08:49:41.114313Z",
     "start_time": "2023-08-20T08:49:41.052154Z"
    },
    "colab": {
     "base_uri": "https://localhost:8080/"
    },
    "executionInfo": {
     "elapsed": 37,
     "status": "ok",
     "timestamp": 1691987277644,
     "user": {
      "displayName": "Lavkush Chaudhary",
      "userId": "01013648497488669597"
     },
     "user_tz": -330
    },
    "id": "09017b0a",
    "outputId": "6d12213d-d9ff-4abc-db32-6c05b14f9e00",
    "scrolled": true
   },
   "outputs": [
    {
     "name": "stdout",
     "output_type": "stream",
     "text": [
      "            date  value\n",
      "0     2023-08-14  87.40\n",
      "1     2023-08-11  87.93\n",
      "2     2023-08-10  87.44\n",
      "3     2023-08-09  89.31\n",
      "4     2023-08-08  88.00\n",
      "...          ...    ...\n",
      "9449  1987-05-26  18.63\n",
      "9450  1987-05-25  18.60\n",
      "9451  1987-05-22  18.55\n",
      "9452  1987-05-21  18.45\n",
      "9453  1987-05-20  18.63\n",
      "\n",
      "[9454 rows x 2 columns]\n"
     ]
    },
    {
     "name": "stderr",
     "output_type": "stream",
     "text": [
      "C:\\Users\\Shubhajinkya\\AppData\\Local\\Temp\\ipykernel_13032\\2818618087.py:10: SettingWithCopyWarning: \n",
      "A value is trying to be set on a copy of a slice from a DataFrame.\n",
      "Try using .loc[row_indexer,col_indexer] = value instead\n",
      "\n",
      "See the caveats in the documentation: https://pandas.pydata.org/pandas-docs/stable/user_guide/indexing.html#returning-a-view-versus-a-copy\n",
      "  df2['date'], df2['value'] = zip(*df2['data'].apply(extract_values))\n",
      "C:\\Users\\Shubhajinkya\\AppData\\Local\\Temp\\ipykernel_13032\\2818618087.py:10: SettingWithCopyWarning: \n",
      "A value is trying to be set on a copy of a slice from a DataFrame.\n",
      "Try using .loc[row_indexer,col_indexer] = value instead\n",
      "\n",
      "See the caveats in the documentation: https://pandas.pydata.org/pandas-docs/stable/user_guide/indexing.html#returning-a-view-versus-a-copy\n",
      "  df2['date'], df2['value'] = zip(*df2['data'].apply(extract_values))\n",
      "C:\\Users\\Shubhajinkya\\AppData\\Local\\Temp\\ipykernel_13032\\2818618087.py:13: SettingWithCopyWarning: \n",
      "A value is trying to be set on a copy of a slice from a DataFrame\n",
      "\n",
      "See the caveats in the documentation: https://pandas.pydata.org/pandas-docs/stable/user_guide/indexing.html#returning-a-view-versus-a-copy\n",
      "  df2.drop(columns=['data'], inplace=True)\n"
     ]
    }
   ],
   "source": [
    "# Function to extract the values from the 'data' column\n",
    "def extract_values(row):\n",
    "    value = row['value'].replace(',', '.')\n",
    "    try:\n",
    "        return row['date'], float(value)\n",
    "    except ValueError:\n",
    "        return row['date'], None  # Return None for invalid values\n",
    "\n",
    "# Applying the function to the 'data' column with apply and zip\n",
    "df2['date'], df2['value'] = zip(*df2['data'].apply(extract_values))\n",
    "\n",
    "# Dropping the original 'data' column\n",
    "df2.drop(columns=['data'], inplace=True)\n",
    "\n",
    "# Printing the resulting DataFrame\n",
    "print(df2)\n"
   ]
  },
  {
   "cell_type": "code",
   "execution_count": 65,
   "id": "8bbded98",
   "metadata": {
    "ExecuteTime": {
     "end_time": "2023-08-20T08:49:42.198141Z",
     "start_time": "2023-08-20T08:49:42.151522Z"
    },
    "colab": {
     "base_uri": "https://localhost:8080/",
     "height": 363
    },
    "executionInfo": {
     "elapsed": 30,
     "status": "ok",
     "timestamp": 1691987277645,
     "user": {
      "displayName": "Lavkush Chaudhary",
      "userId": "01013648497488669597"
     },
     "user_tz": -330
    },
    "id": "8bbded98",
    "outputId": "4003e1a8-2d04-4abb-98af-c7e56f2584ad",
    "scrolled": true
   },
   "outputs": [
    {
     "data": {
      "text/html": [
       "<div>\n",
       "<style scoped>\n",
       "    .dataframe tbody tr th:only-of-type {\n",
       "        vertical-align: middle;\n",
       "    }\n",
       "\n",
       "    .dataframe tbody tr th {\n",
       "        vertical-align: top;\n",
       "    }\n",
       "\n",
       "    .dataframe thead th {\n",
       "        text-align: right;\n",
       "    }\n",
       "</style>\n",
       "<table border=\"1\" class=\"dataframe\">\n",
       "  <thead>\n",
       "    <tr style=\"text-align: right;\">\n",
       "      <th></th>\n",
       "      <th>date</th>\n",
       "      <th>value</th>\n",
       "    </tr>\n",
       "  </thead>\n",
       "  <tbody>\n",
       "    <tr>\n",
       "      <th>3066</th>\n",
       "      <td>2011-11-11</td>\n",
       "      <td>114.43</td>\n",
       "    </tr>\n",
       "    <tr>\n",
       "      <th>8032</th>\n",
       "      <td>1992-10-29</td>\n",
       "      <td>19.40</td>\n",
       "    </tr>\n",
       "    <tr>\n",
       "      <th>3761</th>\n",
       "      <td>2009-03-13</td>\n",
       "      <td>44.97</td>\n",
       "    </tr>\n",
       "    <tr>\n",
       "      <th>8321</th>\n",
       "      <td>1991-09-20</td>\n",
       "      <td>20.55</td>\n",
       "    </tr>\n",
       "    <tr>\n",
       "      <th>6861</th>\n",
       "      <td>1997-04-25</td>\n",
       "      <td>18.07</td>\n",
       "    </tr>\n",
       "    <tr>\n",
       "      <th>721</th>\n",
       "      <td>2020-11-06</td>\n",
       "      <td>38.08</td>\n",
       "    </tr>\n",
       "    <tr>\n",
       "      <th>6166</th>\n",
       "      <td>1999-12-24</td>\n",
       "      <td>NaN</td>\n",
       "    </tr>\n",
       "    <tr>\n",
       "      <th>2154</th>\n",
       "      <td>2015-05-12</td>\n",
       "      <td>65.09</td>\n",
       "    </tr>\n",
       "    <tr>\n",
       "      <th>6063</th>\n",
       "      <td>2000-05-17</td>\n",
       "      <td>28.40</td>\n",
       "    </tr>\n",
       "    <tr>\n",
       "      <th>576</th>\n",
       "      <td>2021-05-28</td>\n",
       "      <td>69.36</td>\n",
       "    </tr>\n",
       "  </tbody>\n",
       "</table>\n",
       "</div>"
      ],
      "text/plain": [
       "            date   value\n",
       "3066  2011-11-11  114.43\n",
       "8032  1992-10-29   19.40\n",
       "3761  2009-03-13   44.97\n",
       "8321  1991-09-20   20.55\n",
       "6861  1997-04-25   18.07\n",
       "721   2020-11-06   38.08\n",
       "6166  1999-12-24     NaN\n",
       "2154  2015-05-12   65.09\n",
       "6063  2000-05-17   28.40\n",
       "576   2021-05-28   69.36"
      ]
     },
     "execution_count": 65,
     "metadata": {},
     "output_type": "execute_result"
    }
   ],
   "source": [
    "df2.sample(10)"
   ]
  },
  {
   "cell_type": "markdown",
   "id": "f068f44a",
   "metadata": {
    "id": "f068f44a"
   },
   "source": [
    "### Converting the date column into date-time format and using it as index."
   ]
  },
  {
   "cell_type": "code",
   "execution_count": 66,
   "id": "0415b4aa",
   "metadata": {
    "ExecuteTime": {
     "end_time": "2023-08-20T08:49:43.942190Z",
     "start_time": "2023-08-20T08:49:43.891634Z"
    },
    "colab": {
     "base_uri": "https://localhost:8080/",
     "height": 297
    },
    "executionInfo": {
     "elapsed": 896,
     "status": "error",
     "timestamp": 1691987278522,
     "user": {
      "displayName": "Lavkush Chaudhary",
      "userId": "01013648497488669597"
     },
     "user_tz": -330
    },
    "id": "0415b4aa",
    "outputId": "0e0d1f91-eefe-413b-d494-44fa63fe5e3c",
    "scrolled": true
   },
   "outputs": [
    {
     "name": "stderr",
     "output_type": "stream",
     "text": [
      "C:\\Users\\Shubhajinkya\\AppData\\Local\\Temp\\ipykernel_13032\\3783625677.py:1: SettingWithCopyWarning: \n",
      "A value is trying to be set on a copy of a slice from a DataFrame.\n",
      "Try using .loc[row_indexer,col_indexer] = value instead\n",
      "\n",
      "See the caveats in the documentation: https://pandas.pydata.org/pandas-docs/stable/user_guide/indexing.html#returning-a-view-versus-a-copy\n",
      "  df2[\"date\"] = pd.to_datetime(df2.date)\n"
     ]
    }
   ],
   "source": [
    "df2[\"date\"] = pd.to_datetime(df2.date)\n"
   ]
  },
  {
   "cell_type": "code",
   "execution_count": 67,
   "id": "f74109ba",
   "metadata": {
    "ExecuteTime": {
     "end_time": "2023-08-20T08:49:44.604892Z",
     "start_time": "2023-08-20T08:49:44.567232Z"
    },
    "executionInfo": {
     "elapsed": 67,
     "status": "aborted",
     "timestamp": 1691987278522,
     "user": {
      "displayName": "Lavkush Chaudhary",
      "userId": "01013648497488669597"
     },
     "user_tz": -330
    },
    "id": "f74109ba"
   },
   "outputs": [
    {
     "data": {
      "text/html": [
       "<div>\n",
       "<style scoped>\n",
       "    .dataframe tbody tr th:only-of-type {\n",
       "        vertical-align: middle;\n",
       "    }\n",
       "\n",
       "    .dataframe tbody tr th {\n",
       "        vertical-align: top;\n",
       "    }\n",
       "\n",
       "    .dataframe thead th {\n",
       "        text-align: right;\n",
       "    }\n",
       "</style>\n",
       "<table border=\"1\" class=\"dataframe\">\n",
       "  <thead>\n",
       "    <tr style=\"text-align: right;\">\n",
       "      <th></th>\n",
       "      <th>date</th>\n",
       "      <th>value</th>\n",
       "    </tr>\n",
       "  </thead>\n",
       "  <tbody>\n",
       "    <tr>\n",
       "      <th>0</th>\n",
       "      <td>2023-08-14</td>\n",
       "      <td>87.40</td>\n",
       "    </tr>\n",
       "    <tr>\n",
       "      <th>1</th>\n",
       "      <td>2023-08-11</td>\n",
       "      <td>87.93</td>\n",
       "    </tr>\n",
       "    <tr>\n",
       "      <th>2</th>\n",
       "      <td>2023-08-10</td>\n",
       "      <td>87.44</td>\n",
       "    </tr>\n",
       "    <tr>\n",
       "      <th>3</th>\n",
       "      <td>2023-08-09</td>\n",
       "      <td>89.31</td>\n",
       "    </tr>\n",
       "    <tr>\n",
       "      <th>4</th>\n",
       "      <td>2023-08-08</td>\n",
       "      <td>88.00</td>\n",
       "    </tr>\n",
       "  </tbody>\n",
       "</table>\n",
       "</div>"
      ],
      "text/plain": [
       "        date  value\n",
       "0 2023-08-14  87.40\n",
       "1 2023-08-11  87.93\n",
       "2 2023-08-10  87.44\n",
       "3 2023-08-09  89.31\n",
       "4 2023-08-08  88.00"
      ]
     },
     "execution_count": 67,
     "metadata": {},
     "output_type": "execute_result"
    }
   ],
   "source": [
    "df2.head()"
   ]
  },
  {
   "cell_type": "code",
   "execution_count": 68,
   "id": "5dff285c",
   "metadata": {
    "ExecuteTime": {
     "end_time": "2023-08-20T08:49:45.296804Z",
     "start_time": "2023-08-20T08:49:45.259392Z"
    },
    "executionInfo": {
     "elapsed": 67,
     "status": "aborted",
     "timestamp": 1691987278523,
     "user": {
      "displayName": "Lavkush Chaudhary",
      "userId": "01013648497488669597"
     },
     "user_tz": -330
    },
    "id": "5dff285c"
   },
   "outputs": [
    {
     "name": "stdout",
     "output_type": "stream",
     "text": [
      "<class 'pandas.core.frame.DataFrame'>\n",
      "RangeIndex: 9454 entries, 0 to 9453\n",
      "Data columns (total 2 columns):\n",
      " #   Column  Non-Null Count  Dtype         \n",
      "---  ------  --------------  -----         \n",
      " 0   date    9454 non-null   datetime64[ns]\n",
      " 1   value   9196 non-null   float64       \n",
      "dtypes: datetime64[ns](1), float64(1)\n",
      "memory usage: 147.8 KB\n"
     ]
    }
   ],
   "source": [
    "df2.info()"
   ]
  },
  {
   "cell_type": "code",
   "execution_count": 69,
   "id": "57f658c2",
   "metadata": {
    "ExecuteTime": {
     "end_time": "2023-08-20T08:49:45.966882Z",
     "start_time": "2023-08-20T08:49:45.927380Z"
    },
    "executionInfo": {
     "elapsed": 66,
     "status": "aborted",
     "timestamp": 1691987278523,
     "user": {
      "displayName": "Lavkush Chaudhary",
      "userId": "01013648497488669597"
     },
     "user_tz": -330
    },
    "id": "57f658c2"
   },
   "outputs": [
    {
     "data": {
      "text/plain": [
       "(9454, 2)"
      ]
     },
     "execution_count": 69,
     "metadata": {},
     "output_type": "execute_result"
    }
   ],
   "source": [
    "df2.shape"
   ]
  },
  {
   "cell_type": "markdown",
   "id": "908a0a68",
   "metadata": {
    "id": "908a0a68"
   },
   "source": [
    "### Checking the Null values. There are 258 NA values.Which is 2.73% of data"
   ]
  },
  {
   "cell_type": "code",
   "execution_count": 70,
   "id": "bcb2f5dd",
   "metadata": {
    "ExecuteTime": {
     "end_time": "2023-08-20T08:49:47.476139Z",
     "start_time": "2023-08-20T08:49:47.441166Z"
    },
    "executionInfo": {
     "elapsed": 67,
     "status": "aborted",
     "timestamp": 1691987278524,
     "user": {
      "displayName": "Lavkush Chaudhary",
      "userId": "01013648497488669597"
     },
     "user_tz": -330
    },
    "id": "bcb2f5dd"
   },
   "outputs": [
    {
     "data": {
      "text/plain": [
       "date     0.00000\n",
       "value    2.73334\n",
       "dtype: float64"
      ]
     },
     "execution_count": 70,
     "metadata": {},
     "output_type": "execute_result"
    }
   ],
   "source": [
    "df2.isna().sum()/9439*100"
   ]
  },
  {
   "cell_type": "markdown",
   "id": "a1ffaf41",
   "metadata": {
    "id": "a1ffaf41"
   },
   "source": [
    "### Filling the NA values"
   ]
  },
  {
   "cell_type": "code",
   "execution_count": 71,
   "id": "86637073",
   "metadata": {
    "ExecuteTime": {
     "end_time": "2023-08-20T08:49:52.101540Z",
     "start_time": "2023-08-20T08:49:52.064299Z"
    },
    "executionInfo": {
     "elapsed": 63,
     "status": "aborted",
     "timestamp": 1691987278524,
     "user": {
      "displayName": "Lavkush Chaudhary",
      "userId": "01013648497488669597"
     },
     "user_tz": -330
    },
    "id": "86637073"
   },
   "outputs": [
    {
     "name": "stderr",
     "output_type": "stream",
     "text": [
      "C:\\Users\\Shubhajinkya\\AppData\\Local\\Temp\\ipykernel_13032\\3752313881.py:1: SettingWithCopyWarning: \n",
      "A value is trying to be set on a copy of a slice from a DataFrame.\n",
      "Try using .loc[row_indexer,col_indexer] = value instead\n",
      "\n",
      "See the caveats in the documentation: https://pandas.pydata.org/pandas-docs/stable/user_guide/indexing.html#returning-a-view-versus-a-copy\n",
      "  df2['value']=df2['value'].fillna(method ='bfill')\n"
     ]
    }
   ],
   "source": [
    "df2['value']=df2['value'].fillna(method ='bfill')"
   ]
  },
  {
   "cell_type": "code",
   "execution_count": 72,
   "id": "cf34d50d",
   "metadata": {
    "ExecuteTime": {
     "end_time": "2023-08-20T08:49:54.911582Z",
     "start_time": "2023-08-20T08:49:54.876602Z"
    },
    "executionInfo": {
     "elapsed": 62,
     "status": "aborted",
     "timestamp": 1691987278524,
     "user": {
      "displayName": "Lavkush Chaudhary",
      "userId": "01013648497488669597"
     },
     "user_tz": -330
    },
    "id": "cf34d50d"
   },
   "outputs": [
    {
     "name": "stdout",
     "output_type": "stream",
     "text": [
      "date     0\n",
      "value    0\n",
      "dtype: int64\n",
      "(9454, 2)\n"
     ]
    }
   ],
   "source": [
    "print(df2.isna().sum())\n",
    "print(df2.shape)"
   ]
  },
  {
   "cell_type": "markdown",
   "id": "35656e29",
   "metadata": {
    "id": "35656e29"
   },
   "source": [
    "### Checking for duplicated values."
   ]
  },
  {
   "cell_type": "code",
   "execution_count": 73,
   "id": "5f92c9f0",
   "metadata": {
    "ExecuteTime": {
     "end_time": "2023-08-20T08:49:56.369202Z",
     "start_time": "2023-08-20T08:49:56.343366Z"
    },
    "executionInfo": {
     "elapsed": 62,
     "status": "aborted",
     "timestamp": 1691987278525,
     "user": {
      "displayName": "Lavkush Chaudhary",
      "userId": "01013648497488669597"
     },
     "user_tz": -330
    },
    "id": "5f92c9f0"
   },
   "outputs": [
    {
     "data": {
      "text/plain": [
       "0"
      ]
     },
     "execution_count": 73,
     "metadata": {},
     "output_type": "execute_result"
    }
   ],
   "source": [
    "df2.duplicated().sum()"
   ]
  },
  {
   "cell_type": "code",
   "execution_count": 74,
   "id": "74edc9aa",
   "metadata": {
    "ExecuteTime": {
     "end_time": "2023-08-20T08:49:57.029438Z",
     "start_time": "2023-08-20T08:49:56.994256Z"
    },
    "executionInfo": {
     "elapsed": 62,
     "status": "aborted",
     "timestamp": 1691987278525,
     "user": {
      "displayName": "Lavkush Chaudhary",
      "userId": "01013648497488669597"
     },
     "user_tz": -330
    },
    "id": "74edc9aa",
    "scrolled": true
   },
   "outputs": [
    {
     "data": {
      "text/html": [
       "<div>\n",
       "<style scoped>\n",
       "    .dataframe tbody tr th:only-of-type {\n",
       "        vertical-align: middle;\n",
       "    }\n",
       "\n",
       "    .dataframe tbody tr th {\n",
       "        vertical-align: top;\n",
       "    }\n",
       "\n",
       "    .dataframe thead th {\n",
       "        text-align: right;\n",
       "    }\n",
       "</style>\n",
       "<table border=\"1\" class=\"dataframe\">\n",
       "  <thead>\n",
       "    <tr style=\"text-align: right;\">\n",
       "      <th></th>\n",
       "      <th>value</th>\n",
       "    </tr>\n",
       "  </thead>\n",
       "  <tbody>\n",
       "    <tr>\n",
       "      <th>count</th>\n",
       "      <td>9454.000000</td>\n",
       "    </tr>\n",
       "    <tr>\n",
       "      <th>mean</th>\n",
       "      <td>49.176451</td>\n",
       "    </tr>\n",
       "    <tr>\n",
       "      <th>std</th>\n",
       "      <td>32.959935</td>\n",
       "    </tr>\n",
       "    <tr>\n",
       "      <th>min</th>\n",
       "      <td>9.100000</td>\n",
       "    </tr>\n",
       "    <tr>\n",
       "      <th>25%</th>\n",
       "      <td>19.150000</td>\n",
       "    </tr>\n",
       "    <tr>\n",
       "      <th>50%</th>\n",
       "      <td>40.855000</td>\n",
       "    </tr>\n",
       "    <tr>\n",
       "      <th>75%</th>\n",
       "      <td>72.117500</td>\n",
       "    </tr>\n",
       "    <tr>\n",
       "      <th>max</th>\n",
       "      <td>143.950000</td>\n",
       "    </tr>\n",
       "  </tbody>\n",
       "</table>\n",
       "</div>"
      ],
      "text/plain": [
       "             value\n",
       "count  9454.000000\n",
       "mean     49.176451\n",
       "std      32.959935\n",
       "min       9.100000\n",
       "25%      19.150000\n",
       "50%      40.855000\n",
       "75%      72.117500\n",
       "max     143.950000"
      ]
     },
     "execution_count": 74,
     "metadata": {},
     "output_type": "execute_result"
    }
   ],
   "source": [
    "df2.describe()"
   ]
  },
  {
   "cell_type": "code",
   "execution_count": 75,
   "id": "3027c889",
   "metadata": {
    "ExecuteTime": {
     "end_time": "2023-08-20T08:49:57.706744Z",
     "start_time": "2023-08-20T08:49:57.691159Z"
    },
    "executionInfo": {
     "elapsed": 61,
     "status": "aborted",
     "timestamp": 1691987278525,
     "user": {
      "displayName": "Lavkush Chaudhary",
      "userId": "01013648497488669597"
     },
     "user_tz": -330
    },
    "id": "3027c889"
   },
   "outputs": [],
   "source": [
    "df2 = df2.set_index('date')"
   ]
  },
  {
   "cell_type": "markdown",
   "id": "940491a8",
   "metadata": {
    "id": "940491a8"
   },
   "source": [
    "- #### The average price of the crude oil in it's entire history is 49 dollar\n",
    "- #### The range is 9 dollar to 143.95 dollar with the standard deviation of 32.84 dollar."
   ]
  },
  {
   "cell_type": "code",
   "execution_count": 76,
   "id": "6c4edfce",
   "metadata": {
    "ExecuteTime": {
     "end_time": "2023-08-20T08:50:00.501464Z",
     "start_time": "2023-08-20T08:49:59.729144Z"
    },
    "executionInfo": {
     "elapsed": 61,
     "status": "aborted",
     "timestamp": 1691987278526,
     "user": {
      "displayName": "Lavkush Chaudhary",
      "userId": "01013648497488669597"
     },
     "user_tz": -330
    },
    "id": "6c4edfce"
   },
   "outputs": [
    {
     "data": {
      "image/png": "[encoded data removed]",
      "text/plain": [
       "<Figure size 1200x600 with 1 Axes>"
      ]
     },
     "metadata": {},
     "output_type": "display_data"
    }
   ],
   "source": [
    "plt.figure(figsize=(12, 6))\n",
    "plt.plot(df2.index, df2['value'])\n",
    "plt.xlabel('Date')\n",
    "plt.ylabel('Price')\n",
    "plt.xticks(rotation=45)\n",
    "plt.grid(True)"
   ]
  },
  {
   "cell_type": "markdown",
   "id": "36805b7b",
   "metadata": {
    "id": "36805b7b"
   },
   "source": [
    "### There are some sharp drops - \n",
    "1. In 2008 Because of recession \n",
    "2. In 2016 because of some investors funding issue\n",
    "3. In 2020 bescause of Covid-19."
   ]
  },
  {
   "cell_type": "markdown",
   "id": "c1963a4d",
   "metadata": {
    "id": "c1963a4d"
   },
   "source": [
    "### Creating and plotting the 200 day's Moving Average to know the trend of data"
   ]
  },
  {
   "cell_type": "code",
   "execution_count": 77,
   "id": "bacdcf0f",
   "metadata": {
    "ExecuteTime": {
     "end_time": "2023-08-20T08:50:02.783145Z",
     "start_time": "2023-08-20T08:50:02.754665Z"
    },
    "executionInfo": {
     "elapsed": 60,
     "status": "aborted",
     "timestamp": 1691987278526,
     "user": {
      "displayName": "Lavkush Chaudhary",
      "userId": "01013648497488669597"
     },
     "user_tz": -330
    },
    "id": "bacdcf0f",
    "scrolled": true
   },
   "outputs": [
    {
     "data": {
      "text/plain": [
       "date\n",
       "2023-08-14         NaN\n",
       "2023-08-11         NaN\n",
       "2023-08-10         NaN\n",
       "2023-08-09         NaN\n",
       "2023-08-08         NaN\n",
       "                ...   \n",
       "1987-05-26    18.04770\n",
       "1987-05-25    18.06705\n",
       "1987-05-22    18.08655\n",
       "1987-05-21    18.10455\n",
       "1987-05-20    18.12095\n",
       "Name: value, Length: 9454, dtype: float64"
      ]
     },
     "execution_count": 77,
     "metadata": {},
     "output_type": "execute_result"
    }
   ],
   "source": [
    "ma200 = df2.value.rolling(200).mean()\n",
    "ma200"
   ]
  },
  {
   "cell_type": "code",
   "execution_count": 78,
   "id": "00d2bef8",
   "metadata": {
    "ExecuteTime": {
     "end_time": "2023-08-20T08:50:04.145168Z",
     "start_time": "2023-08-20T08:50:03.456947Z"
    },
    "executionInfo": {
     "elapsed": 59,
     "status": "aborted",
     "timestamp": 1691987278526,
     "user": {
      "displayName": "Lavkush Chaudhary",
      "userId": "01013648497488669597"
     },
     "user_tz": -330
    },
    "id": "00d2bef8",
    "scrolled": false
   },
   "outputs": [
    {
     "data": {
      "image/png": "[encoded data removed]",
      "text/plain": [
       "<Figure size 1200x600 with 1 Axes>"
      ]
     },
     "metadata": {},
     "output_type": "display_data"
    }
   ],
   "source": [
    "plt.figure(figsize=(12,6))\n",
    "plt.plot(df2.value)\n",
    "plt.plot(ma200,'r')\n",
    "plt.grid(True)"
   ]
  },
  {
   "cell_type": "markdown",
   "id": "71db4e1c",
   "metadata": {
    "id": "71db4e1c"
   },
   "source": [
    "### In its earlier stage it follows the up-trend but after 2008 it becomes volatile."
   ]
  },
  {
   "cell_type": "code",
   "execution_count": 79,
   "id": "75804460",
   "metadata": {
    "ExecuteTime": {
     "end_time": "2023-08-20T08:50:06.216128Z",
     "start_time": "2023-08-20T08:50:05.570145Z"
    },
    "executionInfo": {
     "elapsed": 60,
     "status": "aborted",
     "timestamp": 1691987278527,
     "user": {
      "displayName": "Lavkush Chaudhary",
      "userId": "01013648497488669597"
     },
     "user_tz": -330
    },
    "id": "75804460",
    "scrolled": false
   },
   "outputs": [
    {
     "data": {
      "image/png": "[encoded data removed]",
      "text/plain": [
       "<Figure size 1000x600 with 1 Axes>"
      ]
     },
     "metadata": {},
     "output_type": "display_data"
    }
   ],
   "source": [
    "plt.figure(figsize=(10, 6))\n",
    "sns.histplot(df2['value'], bins=30, kde=True)\n",
    "plt.xlabel('Crude Oil Price')\n",
    "plt.ylabel('Frequency')\n",
    "plt.title('Distribution of Crude Oil Price')\n",
    "plt.show()"
   ]
  },
  {
   "cell_type": "code",
   "execution_count": 80,
   "id": "cb357faf",
   "metadata": {
    "ExecuteTime": {
     "end_time": "2023-08-20T08:50:06.634538Z",
     "start_time": "2023-08-20T08:50:06.263004Z"
    },
    "executionInfo": {
     "elapsed": 59,
     "status": "aborted",
     "timestamp": 1691987278527,
     "user": {
      "displayName": "Lavkush Chaudhary",
      "userId": "01013648497488669597"
     },
     "user_tz": -330
    },
    "id": "cb357faf",
    "scrolled": true
   },
   "outputs": [
    {
     "data": {
      "text/plain": [
       "<Axes: >"
      ]
     },
     "execution_count": 80,
     "metadata": {},
     "output_type": "execute_result"
    },
    {
     "data": {
      "image/png": "[encoded data removed]",
      "text/plain": [
       "<Figure size 640x480 with 1 Axes>"
      ]
     },
     "metadata": {},
     "output_type": "display_data"
    }
   ],
   "source": [
    "sns.boxplot(df2['value'])"
   ]
  },
  {
   "cell_type": "code",
   "execution_count": 81,
   "id": "fd01e8d4",
   "metadata": {
    "ExecuteTime": {
     "end_time": "2023-08-20T08:50:07.256936Z",
     "start_time": "2023-08-20T08:50:07.223804Z"
    },
    "executionInfo": {
     "elapsed": 58,
     "status": "aborted",
     "timestamp": 1691987278527,
     "user": {
      "displayName": "Lavkush Chaudhary",
      "userId": "01013648497488669597"
     },
     "user_tz": -330
    },
    "id": "fd01e8d4"
   },
   "outputs": [],
   "source": [
    "df2['Year'] = pd.DatetimeIndex(df2.index).year\n",
    "df2['Month'] = pd.DatetimeIndex(df2.index).month"
   ]
  },
  {
   "cell_type": "code",
   "execution_count": 82,
   "id": "d26ec8b5",
   "metadata": {
    "ExecuteTime": {
     "end_time": "2023-08-20T08:50:07.945449Z",
     "start_time": "2023-08-20T08:50:07.913232Z"
    },
    "executionInfo": {
     "elapsed": 59,
     "status": "aborted",
     "timestamp": 1691987278528,
     "user": {
      "displayName": "Lavkush Chaudhary",
      "userId": "01013648497488669597"
     },
     "user_tz": -330
    },
    "id": "d26ec8b5",
    "scrolled": true
   },
   "outputs": [
    {
     "data": {
      "text/html": [
       "<div>\n",
       "<style scoped>\n",
       "    .dataframe tbody tr th:only-of-type {\n",
       "        vertical-align: middle;\n",
       "    }\n",
       "\n",
       "    .dataframe tbody tr th {\n",
       "        vertical-align: top;\n",
       "    }\n",
       "\n",
       "    .dataframe thead th {\n",
       "        text-align: right;\n",
       "    }\n",
       "</style>\n",
       "<table border=\"1\" class=\"dataframe\">\n",
       "  <thead>\n",
       "    <tr style=\"text-align: right;\">\n",
       "      <th></th>\n",
       "      <th>value</th>\n",
       "      <th>Year</th>\n",
       "      <th>Month</th>\n",
       "    </tr>\n",
       "    <tr>\n",
       "      <th>date</th>\n",
       "      <th></th>\n",
       "      <th></th>\n",
       "      <th></th>\n",
       "    </tr>\n",
       "  </thead>\n",
       "  <tbody>\n",
       "    <tr>\n",
       "      <th>2023-08-14</th>\n",
       "      <td>87.40</td>\n",
       "      <td>2023</td>\n",
       "      <td>8</td>\n",
       "    </tr>\n",
       "    <tr>\n",
       "      <th>2023-08-11</th>\n",
       "      <td>87.93</td>\n",
       "      <td>2023</td>\n",
       "      <td>8</td>\n",
       "    </tr>\n",
       "    <tr>\n",
       "      <th>2023-08-10</th>\n",
       "      <td>87.44</td>\n",
       "      <td>2023</td>\n",
       "      <td>8</td>\n",
       "    </tr>\n",
       "    <tr>\n",
       "      <th>2023-08-09</th>\n",
       "      <td>89.31</td>\n",
       "      <td>2023</td>\n",
       "      <td>8</td>\n",
       "    </tr>\n",
       "    <tr>\n",
       "      <th>2023-08-08</th>\n",
       "      <td>88.00</td>\n",
       "      <td>2023</td>\n",
       "      <td>8</td>\n",
       "    </tr>\n",
       "  </tbody>\n",
       "</table>\n",
       "</div>"
      ],
      "text/plain": [
       "            value  Year  Month\n",
       "date                          \n",
       "2023-08-14  87.40  2023      8\n",
       "2023-08-11  87.93  2023      8\n",
       "2023-08-10  87.44  2023      8\n",
       "2023-08-09  89.31  2023      8\n",
       "2023-08-08  88.00  2023      8"
      ]
     },
     "execution_count": 82,
     "metadata": {},
     "output_type": "execute_result"
    }
   ],
   "source": [
    "df2.head()"
   ]
  },
  {
   "cell_type": "code",
   "execution_count": 83,
   "id": "05522df2",
   "metadata": {
    "ExecuteTime": {
     "end_time": "2023-08-20T08:50:10.236588Z",
     "start_time": "2023-08-20T08:50:08.919575Z"
    },
    "executionInfo": {
     "elapsed": 58,
     "status": "aborted",
     "timestamp": 1691987278528,
     "user": {
      "displayName": "Lavkush Chaudhary",
      "userId": "01013648497488669597"
     },
     "user_tz": -330
    },
    "id": "05522df2",
    "scrolled": true
   },
   "outputs": [
    {
     "data": {
      "image/png": "[encoded data removed]",
      "text/plain": [
       "<Figure size 1400x800 with 1 Axes>"
      ]
     },
     "metadata": {},
     "output_type": "display_data"
    }
   ],
   "source": [
    "plt.figure(figsize=(14, 8))\n",
    "plt.subplot(211)\n",
    "sns.boxplot(x=df2.index.year, y=df2['value'], data=df2)\n",
    "plt.xticks(rotation=90)\n",
    "plt.show()"
   ]
  },
  {
   "cell_type": "code",
   "execution_count": 84,
   "id": "876b7ef1",
   "metadata": {
    "ExecuteTime": {
     "end_time": "2023-08-20T08:50:10.283465Z",
     "start_time": "2023-08-20T08:50:10.252212Z"
    },
    "executionInfo": {
     "elapsed": 58,
     "status": "aborted",
     "timestamp": 1691987278528,
     "user": {
      "displayName": "Lavkush Chaudhary",
      "userId": "01013648497488669597"
     },
     "user_tz": -330
    },
    "id": "876b7ef1",
    "scrolled": false
   },
   "outputs": [],
   "source": [
    "Q1 = df2['value'].quantile(0.20)\n",
    "Q3 = df2['value'].quantile(0.80)\n",
    "IQR = Q3 - Q1\n",
    "whisker_width = 1.5\n",
    "lower_whisker = Q1 -(whisker_width*IQR)\n",
    "upper_whisker = Q3 + (whisker_width*IQR)\n",
    "df2['value']=np.where(df2['value']>upper_whisker,upper_whisker,np.where(df2['value']<lower_whisker,lower_whisker,df2['value']))"
   ]
  },
  {
   "cell_type": "markdown",
   "id": "e3005084",
   "metadata": {
    "id": "e3005084"
   },
   "source": [
    "### ACF/Autocorrelation plot"
   ]
  },
  {
   "cell_type": "code",
   "execution_count": 85,
   "id": "5ebc065e",
   "metadata": {
    "ExecuteTime": {
     "end_time": "2023-08-20T08:50:11.920115Z",
     "start_time": "2023-08-20T08:50:11.461058Z"
    },
    "executionInfo": {
     "elapsed": 57,
     "status": "aborted",
     "timestamp": 1691987278528,
     "user": {
      "displayName": "Lavkush Chaudhary",
      "userId": "01013648497488669597"
     },
     "user_tz": -330
    },
    "id": "5ebc065e"
   },
   "outputs": [
    {
     "data": {
      "image/png": "[encoded data removed]",
      "text/plain": [
       "<Figure size 640x480 with 1 Axes>"
      ]
     },
     "metadata": {},
     "output_type": "display_data"
    }
   ],
   "source": [
    "# Autocorrelation Funcation(ACF)\n",
    "plot_acf(df2.value,lags = 30)\n",
    "plt.show()"
   ]
  },
  {
   "cell_type": "markdown",
   "id": "9df0432d",
   "metadata": {
    "id": "9df0432d"
   },
   "source": [
    "### Lag Plot"
   ]
  },
  {
   "cell_type": "code",
   "execution_count": 86,
   "id": "ac07649d",
   "metadata": {
    "ExecuteTime": {
     "end_time": "2023-08-20T08:50:14.019710Z",
     "start_time": "2023-08-20T08:50:13.238395Z"
    },
    "executionInfo": {
     "elapsed": 57,
     "status": "aborted",
     "timestamp": 1691987278529,
     "user": {
      "displayName": "Lavkush Chaudhary",
      "userId": "01013648497488669597"
     },
     "user_tz": -330
    },
    "id": "ac07649d",
    "scrolled": false
   },
   "outputs": [
    {
     "data": {
      "text/plain": [
       "<Axes: xlabel='y(t)', ylabel='y(t + 1)'>"
      ]
     },
     "execution_count": 86,
     "metadata": {},
     "output_type": "execute_result"
    },
    {
     "data": {
      "image/png": "[encoded data removed]",
      "text/plain": [
       "<Figure size 640x480 with 1 Axes>"
      ]
     },
     "metadata": {},
     "output_type": "display_data"
    }
   ],
   "source": [
    "lag_plot(df2)"
   ]
  },
  {
   "cell_type": "code",
   "execution_count": 87,
   "id": "98d4b835",
   "metadata": {
    "ExecuteTime": {
     "end_time": "2023-08-20T08:50:14.053041Z",
     "start_time": "2023-08-20T08:50:14.019710Z"
    },
    "executionInfo": {
     "elapsed": 57,
     "status": "aborted",
     "timestamp": 1691987278529,
     "user": {
      "displayName": "Lavkush Chaudhary",
      "userId": "01013648497488669597"
     },
     "user_tz": -330
    },
    "id": "98d4b835"
   },
   "outputs": [],
   "source": [
    "df2['log_Price']=np.log(df2['value'])"
   ]
  },
  {
   "cell_type": "code",
   "execution_count": 88,
   "id": "31b6b0c2",
   "metadata": {
    "ExecuteTime": {
     "end_time": "2023-08-20T08:50:15.588119Z",
     "start_time": "2023-08-20T08:50:15.550215Z"
    },
    "executionInfo": {
     "elapsed": 57,
     "status": "aborted",
     "timestamp": 1691987278529,
     "user": {
      "displayName": "Lavkush Chaudhary",
      "userId": "01013648497488669597"
     },
     "user_tz": -330
    },
    "id": "31b6b0c2",
    "scrolled": true
   },
   "outputs": [
    {
     "data": {
      "text/html": [
       "<div>\n",
       "<style scoped>\n",
       "    .dataframe tbody tr th:only-of-type {\n",
       "        vertical-align: middle;\n",
       "    }\n",
       "\n",
       "    .dataframe tbody tr th {\n",
       "        vertical-align: top;\n",
       "    }\n",
       "\n",
       "    .dataframe thead th {\n",
       "        text-align: right;\n",
       "    }\n",
       "</style>\n",
       "<table border=\"1\" class=\"dataframe\">\n",
       "  <thead>\n",
       "    <tr style=\"text-align: right;\">\n",
       "      <th></th>\n",
       "      <th>value</th>\n",
       "      <th>Year</th>\n",
       "      <th>Month</th>\n",
       "      <th>log_Price</th>\n",
       "    </tr>\n",
       "    <tr>\n",
       "      <th>date</th>\n",
       "      <th></th>\n",
       "      <th></th>\n",
       "      <th></th>\n",
       "      <th></th>\n",
       "    </tr>\n",
       "  </thead>\n",
       "  <tbody>\n",
       "    <tr>\n",
       "      <th>2023-08-14</th>\n",
       "      <td>87.40</td>\n",
       "      <td>2023</td>\n",
       "      <td>8</td>\n",
       "      <td>4.470495</td>\n",
       "    </tr>\n",
       "    <tr>\n",
       "      <th>2023-08-11</th>\n",
       "      <td>87.93</td>\n",
       "      <td>2023</td>\n",
       "      <td>8</td>\n",
       "      <td>4.476541</td>\n",
       "    </tr>\n",
       "    <tr>\n",
       "      <th>2023-08-10</th>\n",
       "      <td>87.44</td>\n",
       "      <td>2023</td>\n",
       "      <td>8</td>\n",
       "      <td>4.470953</td>\n",
       "    </tr>\n",
       "    <tr>\n",
       "      <th>2023-08-09</th>\n",
       "      <td>89.31</td>\n",
       "      <td>2023</td>\n",
       "      <td>8</td>\n",
       "      <td>4.492113</td>\n",
       "    </tr>\n",
       "    <tr>\n",
       "      <th>2023-08-08</th>\n",
       "      <td>88.00</td>\n",
       "      <td>2023</td>\n",
       "      <td>8</td>\n",
       "      <td>4.477337</td>\n",
       "    </tr>\n",
       "    <tr>\n",
       "      <th>...</th>\n",
       "      <td>...</td>\n",
       "      <td>...</td>\n",
       "      <td>...</td>\n",
       "      <td>...</td>\n",
       "    </tr>\n",
       "    <tr>\n",
       "      <th>1987-05-26</th>\n",
       "      <td>18.63</td>\n",
       "      <td>1987</td>\n",
       "      <td>5</td>\n",
       "      <td>2.924773</td>\n",
       "    </tr>\n",
       "    <tr>\n",
       "      <th>1987-05-25</th>\n",
       "      <td>18.60</td>\n",
       "      <td>1987</td>\n",
       "      <td>5</td>\n",
       "      <td>2.923162</td>\n",
       "    </tr>\n",
       "    <tr>\n",
       "      <th>1987-05-22</th>\n",
       "      <td>18.55</td>\n",
       "      <td>1987</td>\n",
       "      <td>5</td>\n",
       "      <td>2.920470</td>\n",
       "    </tr>\n",
       "    <tr>\n",
       "      <th>1987-05-21</th>\n",
       "      <td>18.45</td>\n",
       "      <td>1987</td>\n",
       "      <td>5</td>\n",
       "      <td>2.915064</td>\n",
       "    </tr>\n",
       "    <tr>\n",
       "      <th>1987-05-20</th>\n",
       "      <td>18.63</td>\n",
       "      <td>1987</td>\n",
       "      <td>5</td>\n",
       "      <td>2.924773</td>\n",
       "    </tr>\n",
       "  </tbody>\n",
       "</table>\n",
       "<p>9454 rows × 4 columns</p>\n",
       "</div>"
      ],
      "text/plain": [
       "            value  Year  Month  log_Price\n",
       "date                                     \n",
       "2023-08-14  87.40  2023      8   4.470495\n",
       "2023-08-11  87.93  2023      8   4.476541\n",
       "2023-08-10  87.44  2023      8   4.470953\n",
       "2023-08-09  89.31  2023      8   4.492113\n",
       "2023-08-08  88.00  2023      8   4.477337\n",
       "...           ...   ...    ...        ...\n",
       "1987-05-26  18.63  1987      5   2.924773\n",
       "1987-05-25  18.60  1987      5   2.923162\n",
       "1987-05-22  18.55  1987      5   2.920470\n",
       "1987-05-21  18.45  1987      5   2.915064\n",
       "1987-05-20  18.63  1987      5   2.924773\n",
       "\n",
       "[9454 rows x 4 columns]"
      ]
     },
     "execution_count": 88,
     "metadata": {},
     "output_type": "execute_result"
    }
   ],
   "source": [
    "df2"
   ]
  },
  {
   "cell_type": "code",
   "execution_count": 89,
   "id": "704f909e",
   "metadata": {
    "ExecuteTime": {
     "end_time": "2023-08-20T08:50:26.636376Z",
     "start_time": "2023-08-20T08:50:26.620800Z"
    },
    "executionInfo": {
     "elapsed": 57,
     "status": "aborted",
     "timestamp": 1691987278530,
     "user": {
      "displayName": "Lavkush Chaudhary",
      "userId": "01013648497488669597"
     },
     "user_tz": -330
    },
    "id": "704f909e",
    "scrolled": true
   },
   "outputs": [],
   "source": [
    "t = np.arange(1,9455)\n",
    "df2['t']=t "
   ]
  },
  {
   "cell_type": "code",
   "execution_count": 90,
   "id": "352f45dd",
   "metadata": {
    "ExecuteTime": {
     "end_time": "2023-08-20T08:50:27.586642Z",
     "start_time": "2023-08-20T08:50:27.551694Z"
    },
    "executionInfo": {
     "elapsed": 57,
     "status": "aborted",
     "timestamp": 1691987278530,
     "user": {
      "displayName": "Lavkush Chaudhary",
      "userId": "01013648497488669597"
     },
     "user_tz": -330
    },
    "id": "352f45dd"
   },
   "outputs": [],
   "source": [
    "t_squared=np.array(t*t)\n",
    "df2['t_squared']=t_squared"
   ]
  },
  {
   "cell_type": "code",
   "execution_count": 91,
   "id": "28cc76db",
   "metadata": {
    "ExecuteTime": {
     "end_time": "2023-08-20T08:50:28.594099Z",
     "start_time": "2023-08-20T08:50:28.555420Z"
    },
    "executionInfo": {
     "elapsed": 58,
     "status": "aborted",
     "timestamp": 1691987278531,
     "user": {
      "displayName": "Lavkush Chaudhary",
      "userId": "01013648497488669597"
     },
     "user_tz": -330
    },
    "id": "28cc76db",
    "scrolled": false
   },
   "outputs": [
    {
     "data": {
      "text/html": [
       "<div>\n",
       "<style scoped>\n",
       "    .dataframe tbody tr th:only-of-type {\n",
       "        vertical-align: middle;\n",
       "    }\n",
       "\n",
       "    .dataframe tbody tr th {\n",
       "        vertical-align: top;\n",
       "    }\n",
       "\n",
       "    .dataframe thead th {\n",
       "        text-align: right;\n",
       "    }\n",
       "</style>\n",
       "<table border=\"1\" class=\"dataframe\">\n",
       "  <thead>\n",
       "    <tr style=\"text-align: right;\">\n",
       "      <th></th>\n",
       "      <th>value</th>\n",
       "      <th>Year</th>\n",
       "      <th>Month</th>\n",
       "      <th>log_Price</th>\n",
       "      <th>t</th>\n",
       "      <th>t_squared</th>\n",
       "    </tr>\n",
       "    <tr>\n",
       "      <th>date</th>\n",
       "      <th></th>\n",
       "      <th></th>\n",
       "      <th></th>\n",
       "      <th></th>\n",
       "      <th></th>\n",
       "      <th></th>\n",
       "    </tr>\n",
       "  </thead>\n",
       "  <tbody>\n",
       "    <tr>\n",
       "      <th>2023-08-14</th>\n",
       "      <td>87.40</td>\n",
       "      <td>2023</td>\n",
       "      <td>8</td>\n",
       "      <td>4.470495</td>\n",
       "      <td>1</td>\n",
       "      <td>1</td>\n",
       "    </tr>\n",
       "    <tr>\n",
       "      <th>2023-08-11</th>\n",
       "      <td>87.93</td>\n",
       "      <td>2023</td>\n",
       "      <td>8</td>\n",
       "      <td>4.476541</td>\n",
       "      <td>2</td>\n",
       "      <td>4</td>\n",
       "    </tr>\n",
       "    <tr>\n",
       "      <th>2023-08-10</th>\n",
       "      <td>87.44</td>\n",
       "      <td>2023</td>\n",
       "      <td>8</td>\n",
       "      <td>4.470953</td>\n",
       "      <td>3</td>\n",
       "      <td>9</td>\n",
       "    </tr>\n",
       "    <tr>\n",
       "      <th>2023-08-09</th>\n",
       "      <td>89.31</td>\n",
       "      <td>2023</td>\n",
       "      <td>8</td>\n",
       "      <td>4.492113</td>\n",
       "      <td>4</td>\n",
       "      <td>16</td>\n",
       "    </tr>\n",
       "    <tr>\n",
       "      <th>2023-08-08</th>\n",
       "      <td>88.00</td>\n",
       "      <td>2023</td>\n",
       "      <td>8</td>\n",
       "      <td>4.477337</td>\n",
       "      <td>5</td>\n",
       "      <td>25</td>\n",
       "    </tr>\n",
       "  </tbody>\n",
       "</table>\n",
       "</div>"
      ],
      "text/plain": [
       "            value  Year  Month  log_Price  t  t_squared\n",
       "date                                                   \n",
       "2023-08-14  87.40  2023      8   4.470495  1          1\n",
       "2023-08-11  87.93  2023      8   4.476541  2          4\n",
       "2023-08-10  87.44  2023      8   4.470953  3          9\n",
       "2023-08-09  89.31  2023      8   4.492113  4         16\n",
       "2023-08-08  88.00  2023      8   4.477337  5         25"
      ]
     },
     "execution_count": 91,
     "metadata": {},
     "output_type": "execute_result"
    }
   ],
   "source": [
    "df2.head()"
   ]
  },
  {
   "cell_type": "code",
   "execution_count": 92,
   "id": "65d2c4c3",
   "metadata": {
    "ExecuteTime": {
     "end_time": "2023-08-20T08:50:29.252314Z",
     "start_time": "2023-08-20T08:50:29.219160Z"
    },
    "executionInfo": {
     "elapsed": 57,
     "status": "aborted",
     "timestamp": 1691987278531,
     "user": {
      "displayName": "Lavkush Chaudhary",
      "userId": "01013648497488669597"
     },
     "user_tz": -330
    },
    "id": "65d2c4c3"
   },
   "outputs": [],
   "source": [
    "df2.sort_index(ascending=True, inplace=True)"
   ]
  },
  {
   "cell_type": "code",
   "execution_count": 93,
   "id": "a688f13b",
   "metadata": {
    "ExecuteTime": {
     "end_time": "2023-08-20T08:50:29.862909Z",
     "start_time": "2023-08-20T08:50:29.847283Z"
    },
    "executionInfo": {
     "elapsed": 58,
     "status": "aborted",
     "timestamp": 1691987278532,
     "user": {
      "displayName": "Lavkush Chaudhary",
      "userId": "01013648497488669597"
     },
     "user_tz": -330
    },
    "id": "a688f13b"
   },
   "outputs": [],
   "source": [
    "#Train Test Split in the ratio of 80:20\n",
    "train=df2.head(7560)\n",
    "test=df2.tail(1889)"
   ]
  },
  {
   "cell_type": "code",
   "execution_count": 94,
   "id": "5cbf6aa0",
   "metadata": {
    "ExecuteTime": {
     "end_time": "2023-08-20T08:50:30.635556Z",
     "start_time": "2023-08-20T08:50:30.591284Z"
    },
    "executionInfo": {
     "elapsed": 58,
     "status": "aborted",
     "timestamp": 1691987278532,
     "user": {
      "displayName": "Lavkush Chaudhary",
      "userId": "01013648497488669597"
     },
     "user_tz": -330
    },
    "id": "5cbf6aa0",
    "scrolled": true
   },
   "outputs": [
    {
     "data": {
      "text/html": [
       "<div>\n",
       "<style scoped>\n",
       "    .dataframe tbody tr th:only-of-type {\n",
       "        vertical-align: middle;\n",
       "    }\n",
       "\n",
       "    .dataframe tbody tr th {\n",
       "        vertical-align: top;\n",
       "    }\n",
       "\n",
       "    .dataframe thead th {\n",
       "        text-align: right;\n",
       "    }\n",
       "</style>\n",
       "<table border=\"1\" class=\"dataframe\">\n",
       "  <thead>\n",
       "    <tr style=\"text-align: right;\">\n",
       "      <th></th>\n",
       "      <th>value</th>\n",
       "      <th>Year</th>\n",
       "      <th>Month</th>\n",
       "      <th>log_Price</th>\n",
       "      <th>t</th>\n",
       "      <th>t_squared</th>\n",
       "    </tr>\n",
       "    <tr>\n",
       "      <th>date</th>\n",
       "      <th></th>\n",
       "      <th></th>\n",
       "      <th></th>\n",
       "      <th></th>\n",
       "      <th></th>\n",
       "      <th></th>\n",
       "    </tr>\n",
       "  </thead>\n",
       "  <tbody>\n",
       "    <tr>\n",
       "      <th>1987-05-20</th>\n",
       "      <td>18.63</td>\n",
       "      <td>1987</td>\n",
       "      <td>5</td>\n",
       "      <td>2.924773</td>\n",
       "      <td>9454</td>\n",
       "      <td>89378116</td>\n",
       "    </tr>\n",
       "    <tr>\n",
       "      <th>1987-05-21</th>\n",
       "      <td>18.45</td>\n",
       "      <td>1987</td>\n",
       "      <td>5</td>\n",
       "      <td>2.915064</td>\n",
       "      <td>9453</td>\n",
       "      <td>89359209</td>\n",
       "    </tr>\n",
       "    <tr>\n",
       "      <th>1987-05-22</th>\n",
       "      <td>18.55</td>\n",
       "      <td>1987</td>\n",
       "      <td>5</td>\n",
       "      <td>2.920470</td>\n",
       "      <td>9452</td>\n",
       "      <td>89340304</td>\n",
       "    </tr>\n",
       "    <tr>\n",
       "      <th>1987-05-25</th>\n",
       "      <td>18.60</td>\n",
       "      <td>1987</td>\n",
       "      <td>5</td>\n",
       "      <td>2.923162</td>\n",
       "      <td>9451</td>\n",
       "      <td>89321401</td>\n",
       "    </tr>\n",
       "    <tr>\n",
       "      <th>1987-05-26</th>\n",
       "      <td>18.63</td>\n",
       "      <td>1987</td>\n",
       "      <td>5</td>\n",
       "      <td>2.924773</td>\n",
       "      <td>9450</td>\n",
       "      <td>89302500</td>\n",
       "    </tr>\n",
       "    <tr>\n",
       "      <th>...</th>\n",
       "      <td>...</td>\n",
       "      <td>...</td>\n",
       "      <td>...</td>\n",
       "      <td>...</td>\n",
       "      <td>...</td>\n",
       "      <td>...</td>\n",
       "    </tr>\n",
       "    <tr>\n",
       "      <th>2016-05-04</th>\n",
       "      <td>43.08</td>\n",
       "      <td>2016</td>\n",
       "      <td>5</td>\n",
       "      <td>3.763059</td>\n",
       "      <td>1899</td>\n",
       "      <td>3606201</td>\n",
       "    </tr>\n",
       "    <tr>\n",
       "      <th>2016-05-05</th>\n",
       "      <td>44.39</td>\n",
       "      <td>2016</td>\n",
       "      <td>5</td>\n",
       "      <td>3.793014</td>\n",
       "      <td>1898</td>\n",
       "      <td>3602404</td>\n",
       "    </tr>\n",
       "    <tr>\n",
       "      <th>2016-05-06</th>\n",
       "      <td>44.60</td>\n",
       "      <td>2016</td>\n",
       "      <td>5</td>\n",
       "      <td>3.797734</td>\n",
       "      <td>1897</td>\n",
       "      <td>3598609</td>\n",
       "    </tr>\n",
       "    <tr>\n",
       "      <th>2016-05-09</th>\n",
       "      <td>42.43</td>\n",
       "      <td>2016</td>\n",
       "      <td>5</td>\n",
       "      <td>3.747856</td>\n",
       "      <td>1896</td>\n",
       "      <td>3594816</td>\n",
       "    </tr>\n",
       "    <tr>\n",
       "      <th>2016-05-10</th>\n",
       "      <td>44.01</td>\n",
       "      <td>2016</td>\n",
       "      <td>5</td>\n",
       "      <td>3.784417</td>\n",
       "      <td>1895</td>\n",
       "      <td>3591025</td>\n",
       "    </tr>\n",
       "  </tbody>\n",
       "</table>\n",
       "<p>7560 rows × 6 columns</p>\n",
       "</div>"
      ],
      "text/plain": [
       "            value  Year  Month  log_Price     t  t_squared\n",
       "date                                                      \n",
       "1987-05-20  18.63  1987      5   2.924773  9454   89378116\n",
       "1987-05-21  18.45  1987      5   2.915064  9453   89359209\n",
       "1987-05-22  18.55  1987      5   2.920470  9452   89340304\n",
       "1987-05-25  18.60  1987      5   2.923162  9451   89321401\n",
       "1987-05-26  18.63  1987      5   2.924773  9450   89302500\n",
       "...           ...   ...    ...        ...   ...        ...\n",
       "2016-05-04  43.08  2016      5   3.763059  1899    3606201\n",
       "2016-05-05  44.39  2016      5   3.793014  1898    3602404\n",
       "2016-05-06  44.60  2016      5   3.797734  1897    3598609\n",
       "2016-05-09  42.43  2016      5   3.747856  1896    3594816\n",
       "2016-05-10  44.01  2016      5   3.784417  1895    3591025\n",
       "\n",
       "[7560 rows x 6 columns]"
      ]
     },
     "execution_count": 94,
     "metadata": {},
     "output_type": "execute_result"
    }
   ],
   "source": [
    "train"
   ]
  },
  {
   "cell_type": "code",
   "execution_count": 95,
   "id": "8b5dacf3",
   "metadata": {
    "ExecuteTime": {
     "end_time": "2023-08-20T08:50:31.311963Z",
     "start_time": "2023-08-20T08:50:31.248034Z"
    },
    "executionInfo": {
     "elapsed": 57,
     "status": "aborted",
     "timestamp": 1691987278532,
     "user": {
      "displayName": "Lavkush Chaudhary",
      "userId": "01013648497488669597"
     },
     "user_tz": -330
    },
    "id": "8b5dacf3"
   },
   "outputs": [
    {
     "data": {
      "text/html": [
       "<div>\n",
       "<style scoped>\n",
       "    .dataframe tbody tr th:only-of-type {\n",
       "        vertical-align: middle;\n",
       "    }\n",
       "\n",
       "    .dataframe tbody tr th {\n",
       "        vertical-align: top;\n",
       "    }\n",
       "\n",
       "    .dataframe thead th {\n",
       "        text-align: right;\n",
       "    }\n",
       "</style>\n",
       "<table border=\"1\" class=\"dataframe\">\n",
       "  <thead>\n",
       "    <tr style=\"text-align: right;\">\n",
       "      <th></th>\n",
       "      <th>Method</th>\n",
       "      <th>RMSE</th>\n",
       "    </tr>\n",
       "  </thead>\n",
       "  <tbody>\n",
       "    <tr>\n",
       "      <th>0</th>\n",
       "      <td>Linear method</td>\n",
       "      <td>40.897854</td>\n",
       "    </tr>\n",
       "  </tbody>\n",
       "</table>\n",
       "</div>"
      ],
      "text/plain": [
       "          Method       RMSE\n",
       "0  Linear method  40.897854"
      ]
     },
     "execution_count": 95,
     "metadata": {},
     "output_type": "execute_result"
    }
   ],
   "source": [
    "# Linear Model\n",
    "Linear_model=smf.ols('value~t', data=train).fit( )    #y~x\n",
    "pred_linear=pd.Series(Linear_model.predict(test['t']))   #predicting for test\n",
    "rmse_linear = np.sqrt(np.mean((np.array(test['value'])-np.array(pred_linear))**2))    #sqrt of mean(y act - y pred)^2\n",
    "rmse_linear\n",
    "\n",
    "results = pd.DataFrame({'Method':['Linear method'], 'RMSE': [rmse_linear]})\n",
    "results = results[['Method', 'RMSE']]\n",
    "results"
   ]
  },
  {
   "cell_type": "code",
   "execution_count": 96,
   "id": "a060c05c",
   "metadata": {
    "ExecuteTime": {
     "end_time": "2023-08-20T08:50:32.017840Z",
     "start_time": "2023-08-20T08:50:31.952626Z"
    },
    "executionInfo": {
     "elapsed": 57,
     "status": "aborted",
     "timestamp": 1691987278532,
     "user": {
      "displayName": "Lavkush Chaudhary",
      "userId": "01013648497488669597"
     },
     "user_tz": -330
    },
    "id": "a060c05c"
   },
   "outputs": [
    {
     "data": {
      "text/html": [
       "<div>\n",
       "<style scoped>\n",
       "    .dataframe tbody tr th:only-of-type {\n",
       "        vertical-align: middle;\n",
       "    }\n",
       "\n",
       "    .dataframe tbody tr th {\n",
       "        vertical-align: top;\n",
       "    }\n",
       "\n",
       "    .dataframe thead th {\n",
       "        text-align: right;\n",
       "    }\n",
       "</style>\n",
       "<table border=\"1\" class=\"dataframe\">\n",
       "  <thead>\n",
       "    <tr style=\"text-align: right;\">\n",
       "      <th></th>\n",
       "      <th>Method</th>\n",
       "      <th>RMSE</th>\n",
       "    </tr>\n",
       "  </thead>\n",
       "  <tbody>\n",
       "    <tr>\n",
       "      <th>0</th>\n",
       "      <td>Linear method</td>\n",
       "      <td>40.897854</td>\n",
       "    </tr>\n",
       "    <tr>\n",
       "      <th>0</th>\n",
       "      <td>Exponential Model</td>\n",
       "      <td>68.083136</td>\n",
       "    </tr>\n",
       "  </tbody>\n",
       "</table>\n",
       "</div>"
      ],
      "text/plain": [
       "              Method       RMSE\n",
       "0      Linear method  40.897854\n",
       "0  Exponential Model  68.083136"
      ]
     },
     "execution_count": 96,
     "metadata": {},
     "output_type": "execute_result"
    }
   ],
   "source": [
    "#Exponential Model similiar to Linear but insted of Yt we use log(Yt)\n",
    "#SAME LIKE LINEAR BUT IN PLACE OF Yt WE USE LOG(Yt)\n",
    "Exp=smf.ols('log_Price~t', data=train).fit( )                                   #log(y)~x\n",
    "pred_Exp=pd.Series(Exp.predict(test['t']))   #predicting for test\n",
    "rmse_Exp = np.sqrt(np.mean((np.array(test['value'])-np.array(np.exp(pred_Exp)))**2))    #sqrt of mean(y act - y pred)^2\n",
    "rmse_Exp\n",
    "tempResults = pd.DataFrame({'Method':['Exponential Model'], 'RMSE': [rmse_Exp] })\n",
    "results = pd.concat([results, tempResults])\n",
    "results = results[['Method', 'RMSE']]\n",
    "results"
   ]
  },
  {
   "cell_type": "code",
   "execution_count": 97,
   "id": "7cebb60f",
   "metadata": {
    "ExecuteTime": {
     "end_time": "2023-08-20T08:50:32.781402Z",
     "start_time": "2023-08-20T08:50:32.695269Z"
    },
    "executionInfo": {
     "elapsed": 57,
     "status": "aborted",
     "timestamp": 1691987278532,
     "user": {
      "displayName": "Lavkush Chaudhary",
      "userId": "01013648497488669597"
     },
     "user_tz": -330
    },
    "id": "7cebb60f"
   },
   "outputs": [
    {
     "data": {
      "text/html": [
       "<div>\n",
       "<style scoped>\n",
       "    .dataframe tbody tr th:only-of-type {\n",
       "        vertical-align: middle;\n",
       "    }\n",
       "\n",
       "    .dataframe tbody tr th {\n",
       "        vertical-align: top;\n",
       "    }\n",
       "\n",
       "    .dataframe thead th {\n",
       "        text-align: right;\n",
       "    }\n",
       "</style>\n",
       "<table border=\"1\" class=\"dataframe\">\n",
       "  <thead>\n",
       "    <tr style=\"text-align: right;\">\n",
       "      <th></th>\n",
       "      <th>Method</th>\n",
       "      <th>RMSE</th>\n",
       "    </tr>\n",
       "  </thead>\n",
       "  <tbody>\n",
       "    <tr>\n",
       "      <th>0</th>\n",
       "      <td>Linear method</td>\n",
       "      <td>40.897854</td>\n",
       "    </tr>\n",
       "    <tr>\n",
       "      <th>0</th>\n",
       "      <td>Exponential Model</td>\n",
       "      <td>68.083136</td>\n",
       "    </tr>\n",
       "    <tr>\n",
       "      <th>0</th>\n",
       "      <td>Quadratic Model</td>\n",
       "      <td>68.083136</td>\n",
       "    </tr>\n",
       "  </tbody>\n",
       "</table>\n",
       "</div>"
      ],
      "text/plain": [
       "              Method       RMSE\n",
       "0      Linear method  40.897854\n",
       "0  Exponential Model  68.083136\n",
       "0    Quadratic Model  68.083136"
      ]
     },
     "execution_count": 97,
     "metadata": {},
     "output_type": "execute_result"
    }
   ],
   "source": [
    "# Quadratic here we are creating two independent variables\n",
    "\n",
    "Quad=smf.ols('value~t+t_squared', data=train).fit( )\n",
    "\n",
    "pred_Quad=pd.Series(Quad.predict(test[['t', 't_squared']]))    #predicting for test\n",
    "rmse_Quad = np.sqrt(np.mean((np.array(test['value'])-np.array(pred_Quad))**2))    #sqrt of mean(y act - y pred)^2\n",
    "rmse_Quad\n",
    "\n",
    "tempResults = pd.DataFrame({'Method':['Quadratic Model'], 'RMSE': [rmse_Exp] })\n",
    "results = pd.concat([results,tempResults])\n",
    "results = results[['Method', 'RMSE']]\n",
    "results"
   ]
  },
  {
   "cell_type": "code",
   "execution_count": 98,
   "id": "d620969c",
   "metadata": {
    "ExecuteTime": {
     "end_time": "2023-08-20T08:50:33.422168Z",
     "start_time": "2023-08-20T08:50:33.406442Z"
    },
    "executionInfo": {
     "elapsed": 57,
     "status": "aborted",
     "timestamp": 1691987278533,
     "user": {
      "displayName": "Lavkush Chaudhary",
      "userId": "01013648497488669597"
     },
     "user_tz": -330
    },
    "id": "d620969c"
   },
   "outputs": [],
   "source": [
    "train_len = 7560\n",
    "y_hat_naive = test.copy()\n",
    "y_hat_naive['naive_forecast'] = train['value'][train_len-1]"
   ]
  },
  {
   "cell_type": "code",
   "execution_count": 99,
   "id": "bdc767fb",
   "metadata": {
    "ExecuteTime": {
     "end_time": "2023-08-20T08:50:34.069478Z",
     "start_time": "2023-08-20T08:50:34.038231Z"
    },
    "executionInfo": {
     "elapsed": 57,
     "status": "aborted",
     "timestamp": 1691987278533,
     "user": {
      "displayName": "Lavkush Chaudhary",
      "userId": "01013648497488669597"
     },
     "user_tz": -330
    },
    "id": "bdc767fb"
   },
   "outputs": [
    {
     "data": {
      "text/html": [
       "<div>\n",
       "<style scoped>\n",
       "    .dataframe tbody tr th:only-of-type {\n",
       "        vertical-align: middle;\n",
       "    }\n",
       "\n",
       "    .dataframe tbody tr th {\n",
       "        vertical-align: top;\n",
       "    }\n",
       "\n",
       "    .dataframe thead th {\n",
       "        text-align: right;\n",
       "    }\n",
       "</style>\n",
       "<table border=\"1\" class=\"dataframe\">\n",
       "  <thead>\n",
       "    <tr style=\"text-align: right;\">\n",
       "      <th></th>\n",
       "      <th>Method</th>\n",
       "      <th>RMSE</th>\n",
       "    </tr>\n",
       "  </thead>\n",
       "  <tbody>\n",
       "    <tr>\n",
       "      <th>0</th>\n",
       "      <td>Linear method</td>\n",
       "      <td>40.897854</td>\n",
       "    </tr>\n",
       "    <tr>\n",
       "      <th>0</th>\n",
       "      <td>Exponential Model</td>\n",
       "      <td>68.083136</td>\n",
       "    </tr>\n",
       "    <tr>\n",
       "      <th>0</th>\n",
       "      <td>Quadratic Model</td>\n",
       "      <td>68.083136</td>\n",
       "    </tr>\n",
       "    <tr>\n",
       "      <th>0</th>\n",
       "      <td>Naive Model</td>\n",
       "      <td>30.020000</td>\n",
       "    </tr>\n",
       "  </tbody>\n",
       "</table>\n",
       "</div>"
      ],
      "text/plain": [
       "              Method       RMSE\n",
       "0      Linear method  40.897854\n",
       "0  Exponential Model  68.083136\n",
       "0    Quadratic Model  68.083136\n",
       "0        Naive Model  30.020000"
      ]
     },
     "execution_count": 99,
     "metadata": {},
     "output_type": "execute_result"
    }
   ],
   "source": [
    "#Naive Model\n",
    "rmse = np.sqrt(mean_squared_error(test['value'], y_hat_naive['naive_forecast'])).round(2)\n",
    "tempResults = pd.DataFrame({'Method':['Naive Model'], 'RMSE': [rmse] })\n",
    "results = pd.concat([results,tempResults])\n",
    "results = results[['Method', 'RMSE']]\n",
    "results"
   ]
  },
  {
   "cell_type": "code",
   "execution_count": 100,
   "id": "70179795",
   "metadata": {
    "ExecuteTime": {
     "end_time": "2023-08-20T08:50:34.704876Z",
     "start_time": "2023-08-20T08:50:34.663277Z"
    },
    "executionInfo": {
     "elapsed": 57,
     "status": "aborted",
     "timestamp": 1691987278533,
     "user": {
      "displayName": "Lavkush Chaudhary",
      "userId": "01013648497488669597"
     },
     "user_tz": -330
    },
    "id": "70179795"
   },
   "outputs": [
    {
     "name": "stderr",
     "output_type": "stream",
     "text": [
      "C:\\Users\\Shubhajinkya\\AppData\\Local\\Temp\\ipykernel_13032\\2163335855.py:4: SettingWithCopyWarning: \n",
      "A value is trying to be set on a copy of a slice from a DataFrame\n",
      "\n",
      "See the caveats in the documentation: https://pandas.pydata.org/pandas-docs/stable/user_guide/indexing.html#returning-a-view-versus-a-copy\n",
      "  y_hat_sma['sma_forecast'][train_len:] = y_hat_sma['sma_forecast'][train_len-1]\n"
     ]
    }
   ],
   "source": [
    "y_hat_sma = df2.copy()\n",
    "ma_window = 365\n",
    "y_hat_sma['sma_forecast'] = df2['value'].rolling(ma_window).mean()\n",
    "y_hat_sma['sma_forecast'][train_len:] = y_hat_sma['sma_forecast'][train_len-1]"
   ]
  },
  {
   "cell_type": "code",
   "execution_count": 109,
   "id": "5b6f17a5",
   "metadata": {
    "ExecuteTime": {
     "end_time": "2023-08-20T09:00:04.907829Z",
     "start_time": "2023-08-20T09:00:04.209864Z"
    },
    "executionInfo": {
     "elapsed": 57,
     "status": "aborted",
     "timestamp": 1691987278533,
     "user": {
      "displayName": "Lavkush Chaudhary",
      "userId": "01013648497488669597"
     },
     "user_tz": -330
    },
    "id": "5b6f17a5",
    "scrolled": true
   },
   "outputs": [
    {
     "name": "stderr",
     "output_type": "stream",
     "text": [
      "C:\\Users\\Shubhajinkya\\ANACONDA\\install2\\install\\lib\\site-packages\\statsmodels\\tsa\\base\\tsa_model.py:471: ValueWarning: No frequency information was provided, so inferred frequency B will be used.\n",
      "  self._init_dates(dates, freq)\n"
     ]
    },
    {
     "data": {
      "text/html": [
       "<div>\n",
       "<style scoped>\n",
       "    .dataframe tbody tr th:only-of-type {\n",
       "        vertical-align: middle;\n",
       "    }\n",
       "\n",
       "    .dataframe tbody tr th {\n",
       "        vertical-align: top;\n",
       "    }\n",
       "\n",
       "    .dataframe thead th {\n",
       "        text-align: right;\n",
       "    }\n",
       "</style>\n",
       "<table border=\"1\" class=\"dataframe\">\n",
       "  <thead>\n",
       "    <tr style=\"text-align: right;\">\n",
       "      <th></th>\n",
       "      <th>value</th>\n",
       "      <th>Year</th>\n",
       "      <th>Month</th>\n",
       "      <th>log_Price</th>\n",
       "      <th>t</th>\n",
       "      <th>t_squared</th>\n",
       "      <th>DES</th>\n",
       "      <th>TESA</th>\n",
       "    </tr>\n",
       "    <tr>\n",
       "      <th>date</th>\n",
       "      <th></th>\n",
       "      <th></th>\n",
       "      <th></th>\n",
       "      <th></th>\n",
       "      <th></th>\n",
       "      <th></th>\n",
       "      <th></th>\n",
       "      <th></th>\n",
       "    </tr>\n",
       "  </thead>\n",
       "  <tbody>\n",
       "    <tr>\n",
       "      <th>1987-05-20</th>\n",
       "      <td>18.63</td>\n",
       "      <td>1987</td>\n",
       "      <td>5</td>\n",
       "      <td>2.924773</td>\n",
       "      <td>9454</td>\n",
       "      <td>89378116</td>\n",
       "      <td>18.637281</td>\n",
       "      <td>18.619648</td>\n",
       "    </tr>\n",
       "    <tr>\n",
       "      <th>1987-05-21</th>\n",
       "      <td>18.45</td>\n",
       "      <td>1987</td>\n",
       "      <td>5</td>\n",
       "      <td>2.915064</td>\n",
       "      <td>9453</td>\n",
       "      <td>89359209</td>\n",
       "      <td>18.457281</td>\n",
       "      <td>18.666985</td>\n",
       "    </tr>\n",
       "    <tr>\n",
       "      <th>1987-05-22</th>\n",
       "      <td>18.55</td>\n",
       "      <td>1987</td>\n",
       "      <td>5</td>\n",
       "      <td>2.920470</td>\n",
       "      <td>9452</td>\n",
       "      <td>89340304</td>\n",
       "      <td>18.557281</td>\n",
       "      <td>18.466470</td>\n",
       "    </tr>\n",
       "    <tr>\n",
       "      <th>1987-05-25</th>\n",
       "      <td>18.60</td>\n",
       "      <td>1987</td>\n",
       "      <td>5</td>\n",
       "      <td>2.923162</td>\n",
       "      <td>9451</td>\n",
       "      <td>89321401</td>\n",
       "      <td>18.607281</td>\n",
       "      <td>18.524110</td>\n",
       "    </tr>\n",
       "    <tr>\n",
       "      <th>1987-05-26</th>\n",
       "      <td>18.63</td>\n",
       "      <td>1987</td>\n",
       "      <td>5</td>\n",
       "      <td>2.924773</td>\n",
       "      <td>9450</td>\n",
       "      <td>89302500</td>\n",
       "      <td>18.637281</td>\n",
       "      <td>18.652386</td>\n",
       "    </tr>\n",
       "  </tbody>\n",
       "</table>\n",
       "</div>"
      ],
      "text/plain": [
       "            value  Year  Month  log_Price     t  t_squared        DES  \\\n",
       "date                                                                    \n",
       "1987-05-20  18.63  1987      5   2.924773  9454   89378116  18.637281   \n",
       "1987-05-21  18.45  1987      5   2.915064  9453   89359209  18.457281   \n",
       "1987-05-22  18.55  1987      5   2.920470  9452   89340304  18.557281   \n",
       "1987-05-25  18.60  1987      5   2.923162  9451   89321401  18.607281   \n",
       "1987-05-26  18.63  1987      5   2.924773  9450   89302500  18.637281   \n",
       "\n",
       "                 TESA  \n",
       "date                   \n",
       "1987-05-20  18.619648  \n",
       "1987-05-21  18.666985  \n",
       "1987-05-22  18.466470  \n",
       "1987-05-25  18.524110  \n",
       "1987-05-26  18.652386  "
      ]
     },
     "execution_count": 109,
     "metadata": {},
     "output_type": "execute_result"
    }
   ],
   "source": [
    "# Double Exponential Smooting\n",
    "from statsmodels.tsa.holtwinters import ExponentialSmoothing\n",
    "\n",
    "mod_add12 = ExponentialSmoothing(df2['value'], trend='add')\n",
    "fitted_model= mod_add12.fit()\n",
    "df2['DES'] = fitted_model.fittedvalues.shift(-1)\n",
    "df2.head()"
   ]
  },
  {
   "cell_type": "code",
   "execution_count": 110,
   "id": "7cce9388",
   "metadata": {
    "ExecuteTime": {
     "end_time": "2023-08-20T09:00:08.391336Z",
     "start_time": "2023-08-20T09:00:05.553995Z"
    },
    "executionInfo": {
     "elapsed": 58,
     "status": "aborted",
     "timestamp": 1691987278534,
     "user": {
      "displayName": "Lavkush Chaudhary",
      "userId": "01013648497488669597"
     },
     "user_tz": -330
    },
    "id": "7cce9388",
    "scrolled": true
   },
   "outputs": [
    {
     "name": "stderr",
     "output_type": "stream",
     "text": [
      "C:\\Users\\Shubhajinkya\\ANACONDA\\install2\\install\\lib\\site-packages\\statsmodels\\tsa\\base\\tsa_model.py:471: ValueWarning: No frequency information was provided, so inferred frequency B will be used.\n",
      "  self._init_dates(dates, freq)\n"
     ]
    },
    {
     "data": {
      "text/html": [
       "<div>\n",
       "<style scoped>\n",
       "    .dataframe tbody tr th:only-of-type {\n",
       "        vertical-align: middle;\n",
       "    }\n",
       "\n",
       "    .dataframe tbody tr th {\n",
       "        vertical-align: top;\n",
       "    }\n",
       "\n",
       "    .dataframe thead th {\n",
       "        text-align: right;\n",
       "    }\n",
       "</style>\n",
       "<table border=\"1\" class=\"dataframe\">\n",
       "  <thead>\n",
       "    <tr style=\"text-align: right;\">\n",
       "      <th></th>\n",
       "      <th>value</th>\n",
       "      <th>Year</th>\n",
       "      <th>Month</th>\n",
       "      <th>log_Price</th>\n",
       "      <th>t</th>\n",
       "      <th>t_squared</th>\n",
       "      <th>DES</th>\n",
       "      <th>TESA</th>\n",
       "    </tr>\n",
       "    <tr>\n",
       "      <th>date</th>\n",
       "      <th></th>\n",
       "      <th></th>\n",
       "      <th></th>\n",
       "      <th></th>\n",
       "      <th></th>\n",
       "      <th></th>\n",
       "      <th></th>\n",
       "      <th></th>\n",
       "    </tr>\n",
       "  </thead>\n",
       "  <tbody>\n",
       "    <tr>\n",
       "      <th>1987-05-20</th>\n",
       "      <td>18.63</td>\n",
       "      <td>1987</td>\n",
       "      <td>5</td>\n",
       "      <td>2.924773</td>\n",
       "      <td>9454</td>\n",
       "      <td>89378116</td>\n",
       "      <td>18.637281</td>\n",
       "      <td>18.619648</td>\n",
       "    </tr>\n",
       "    <tr>\n",
       "      <th>1987-05-21</th>\n",
       "      <td>18.45</td>\n",
       "      <td>1987</td>\n",
       "      <td>5</td>\n",
       "      <td>2.915064</td>\n",
       "      <td>9453</td>\n",
       "      <td>89359209</td>\n",
       "      <td>18.457281</td>\n",
       "      <td>18.666985</td>\n",
       "    </tr>\n",
       "    <tr>\n",
       "      <th>1987-05-22</th>\n",
       "      <td>18.55</td>\n",
       "      <td>1987</td>\n",
       "      <td>5</td>\n",
       "      <td>2.920470</td>\n",
       "      <td>9452</td>\n",
       "      <td>89340304</td>\n",
       "      <td>18.557281</td>\n",
       "      <td>18.466470</td>\n",
       "    </tr>\n",
       "    <tr>\n",
       "      <th>1987-05-25</th>\n",
       "      <td>18.60</td>\n",
       "      <td>1987</td>\n",
       "      <td>5</td>\n",
       "      <td>2.923162</td>\n",
       "      <td>9451</td>\n",
       "      <td>89321401</td>\n",
       "      <td>18.607281</td>\n",
       "      <td>18.524110</td>\n",
       "    </tr>\n",
       "    <tr>\n",
       "      <th>1987-05-26</th>\n",
       "      <td>18.63</td>\n",
       "      <td>1987</td>\n",
       "      <td>5</td>\n",
       "      <td>2.924773</td>\n",
       "      <td>9450</td>\n",
       "      <td>89302500</td>\n",
       "      <td>18.637281</td>\n",
       "      <td>18.652386</td>\n",
       "    </tr>\n",
       "  </tbody>\n",
       "</table>\n",
       "</div>"
      ],
      "text/plain": [
       "            value  Year  Month  log_Price     t  t_squared        DES  \\\n",
       "date                                                                    \n",
       "1987-05-20  18.63  1987      5   2.924773  9454   89378116  18.637281   \n",
       "1987-05-21  18.45  1987      5   2.915064  9453   89359209  18.457281   \n",
       "1987-05-22  18.55  1987      5   2.920470  9452   89340304  18.557281   \n",
       "1987-05-25  18.60  1987      5   2.923162  9451   89321401  18.607281   \n",
       "1987-05-26  18.63  1987      5   2.924773  9450   89302500  18.637281   \n",
       "\n",
       "                 TESA  \n",
       "date                   \n",
       "1987-05-20  18.619648  \n",
       "1987-05-21  18.666985  \n",
       "1987-05-22  18.466470  \n",
       "1987-05-25  18.524110  \n",
       "1987-05-26  18.652386  "
      ]
     },
     "execution_count": 110,
     "metadata": {},
     "output_type": "execute_result"
    }
   ],
   "source": [
    "#Triple Exponential Smooting by adding\n",
    "df2['TESA'] = ExponentialSmoothing(df2['value'],trend='add',seasonal='add',seasonal_periods=12).fit().fittedvalues\n",
    "df2.head()"
   ]
  },
  {
   "cell_type": "code",
   "execution_count": 111,
   "id": "941fbf64",
   "metadata": {
    "ExecuteTime": {
     "end_time": "2023-08-20T09:00:14.429470Z",
     "start_time": "2023-08-20T09:00:08.391336Z"
    },
    "executionInfo": {
     "elapsed": 57,
     "status": "aborted",
     "timestamp": 1691987278534,
     "user": {
      "displayName": "Lavkush Chaudhary",
      "userId": "01013648497488669597"
     },
     "user_tz": -330
    },
    "id": "941fbf64"
   },
   "outputs": [
    {
     "name": "stderr",
     "output_type": "stream",
     "text": [
      "C:\\Users\\Shubhajinkya\\ANACONDA\\install2\\install\\lib\\site-packages\\statsmodels\\tsa\\base\\tsa_model.py:471: ValueWarning: No frequency information was provided, so inferred frequency B will be used.\n",
      "  self._init_dates(dates, freq)\n",
      "C:\\Users\\Shubhajinkya\\ANACONDA\\install2\\install\\lib\\site-packages\\statsmodels\\tsa\\holtwinters\\model.py:83: RuntimeWarning: overflow encountered in matmul\n",
      "  return err.T @ err\n"
     ]
    },
    {
     "data": {
      "text/html": [
       "<div>\n",
       "<style scoped>\n",
       "    .dataframe tbody tr th:only-of-type {\n",
       "        vertical-align: middle;\n",
       "    }\n",
       "\n",
       "    .dataframe tbody tr th {\n",
       "        vertical-align: top;\n",
       "    }\n",
       "\n",
       "    .dataframe thead th {\n",
       "        text-align: right;\n",
       "    }\n",
       "</style>\n",
       "<table border=\"1\" class=\"dataframe\">\n",
       "  <thead>\n",
       "    <tr style=\"text-align: right;\">\n",
       "      <th></th>\n",
       "      <th>value</th>\n",
       "      <th>Year</th>\n",
       "      <th>Month</th>\n",
       "      <th>log_Price</th>\n",
       "      <th>t</th>\n",
       "      <th>t_squared</th>\n",
       "      <th>DES</th>\n",
       "      <th>TESA</th>\n",
       "      <th>TESM</th>\n",
       "    </tr>\n",
       "    <tr>\n",
       "      <th>date</th>\n",
       "      <th></th>\n",
       "      <th></th>\n",
       "      <th></th>\n",
       "      <th></th>\n",
       "      <th></th>\n",
       "      <th></th>\n",
       "      <th></th>\n",
       "      <th></th>\n",
       "      <th></th>\n",
       "    </tr>\n",
       "  </thead>\n",
       "  <tbody>\n",
       "    <tr>\n",
       "      <th>1987-05-20</th>\n",
       "      <td>18.63</td>\n",
       "      <td>1987</td>\n",
       "      <td>5</td>\n",
       "      <td>2.924773</td>\n",
       "      <td>9454</td>\n",
       "      <td>89378116</td>\n",
       "      <td>18.637281</td>\n",
       "      <td>18.619648</td>\n",
       "      <td>18.938277</td>\n",
       "    </tr>\n",
       "    <tr>\n",
       "      <th>1987-05-21</th>\n",
       "      <td>18.45</td>\n",
       "      <td>1987</td>\n",
       "      <td>5</td>\n",
       "      <td>2.915064</td>\n",
       "      <td>9453</td>\n",
       "      <td>89359209</td>\n",
       "      <td>18.457281</td>\n",
       "      <td>18.666985</td>\n",
       "      <td>18.563117</td>\n",
       "    </tr>\n",
       "    <tr>\n",
       "      <th>1987-05-22</th>\n",
       "      <td>18.55</td>\n",
       "      <td>1987</td>\n",
       "      <td>5</td>\n",
       "      <td>2.920470</td>\n",
       "      <td>9452</td>\n",
       "      <td>89340304</td>\n",
       "      <td>18.557281</td>\n",
       "      <td>18.466470</td>\n",
       "      <td>18.349794</td>\n",
       "    </tr>\n",
       "    <tr>\n",
       "      <th>1987-05-25</th>\n",
       "      <td>18.60</td>\n",
       "      <td>1987</td>\n",
       "      <td>5</td>\n",
       "      <td>2.923162</td>\n",
       "      <td>9451</td>\n",
       "      <td>89321401</td>\n",
       "      <td>18.607281</td>\n",
       "      <td>18.524110</td>\n",
       "      <td>18.577184</td>\n",
       "    </tr>\n",
       "    <tr>\n",
       "      <th>1987-05-26</th>\n",
       "      <td>18.63</td>\n",
       "      <td>1987</td>\n",
       "      <td>5</td>\n",
       "      <td>2.924773</td>\n",
       "      <td>9450</td>\n",
       "      <td>89302500</td>\n",
       "      <td>18.637281</td>\n",
       "      <td>18.652386</td>\n",
       "      <td>18.470105</td>\n",
       "    </tr>\n",
       "  </tbody>\n",
       "</table>\n",
       "</div>"
      ],
      "text/plain": [
       "            value  Year  Month  log_Price     t  t_squared        DES  \\\n",
       "date                                                                    \n",
       "1987-05-20  18.63  1987      5   2.924773  9454   89378116  18.637281   \n",
       "1987-05-21  18.45  1987      5   2.915064  9453   89359209  18.457281   \n",
       "1987-05-22  18.55  1987      5   2.920470  9452   89340304  18.557281   \n",
       "1987-05-25  18.60  1987      5   2.923162  9451   89321401  18.607281   \n",
       "1987-05-26  18.63  1987      5   2.924773  9450   89302500  18.637281   \n",
       "\n",
       "                 TESA       TESM  \n",
       "date                              \n",
       "1987-05-20  18.619648  18.938277  \n",
       "1987-05-21  18.666985  18.563117  \n",
       "1987-05-22  18.466470  18.349794  \n",
       "1987-05-25  18.524110  18.577184  \n",
       "1987-05-26  18.652386  18.470105  "
      ]
     },
     "execution_count": 111,
     "metadata": {},
     "output_type": "execute_result"
    }
   ],
   "source": [
    "#Triple Exponential Smooting by multiplying\n",
    "df2['TESM'] = ExponentialSmoothing(df2['value'],trend='mul',seasonal='mul',seasonal_periods=12).fit().fittedvalues\n",
    "df2.head()"
   ]
  },
  {
   "cell_type": "code",
   "execution_count": 112,
   "id": "fdcf896e",
   "metadata": {
    "ExecuteTime": {
     "end_time": "2023-08-20T09:00:15.435780Z",
     "start_time": "2023-08-20T09:00:14.429470Z"
    },
    "executionInfo": {
     "elapsed": 57,
     "status": "aborted",
     "timestamp": 1691987278534,
     "user": {
      "displayName": "Lavkush Chaudhary",
      "userId": "01013648497488669597"
     },
     "user_tz": -330
    },
    "id": "fdcf896e",
    "scrolled": true
   },
   "outputs": [
    {
     "data": {
      "text/plain": [
       "<Axes: xlabel='date'>"
      ]
     },
     "execution_count": 112,
     "metadata": {},
     "output_type": "execute_result"
    },
    {
     "data": {
      "image/png": "[encoded data removed]",
      "text/plain": [
       "<Figure size 1200x600 with 1 Axes>"
      ]
     },
     "metadata": {},
     "output_type": "display_data"
    }
   ],
   "source": [
    "df2[['value','TESA','TESM']].plot(figsize=(12,6))"
   ]
  },
  {
   "cell_type": "code",
   "execution_count": 113,
   "id": "e7f40024",
   "metadata": {
    "ExecuteTime": {
     "end_time": "2023-08-20T09:00:17.539621Z",
     "start_time": "2023-08-20T09:00:15.444129Z"
    },
    "executionInfo": {
     "elapsed": 59,
     "status": "aborted",
     "timestamp": 1691987278536,
     "user": {
      "displayName": "Lavkush Chaudhary",
      "userId": "01013648497488669597"
     },
     "user_tz": -330
    },
    "id": "e7f40024"
   },
   "outputs": [
    {
     "data": {
      "image/png": "[encoded data removed]",
      "text/plain": [
       "<Figure size 640x480 with 4 Axes>"
      ]
     },
     "metadata": {},
     "output_type": "display_data"
    }
   ],
   "source": [
    "from statsmodels.tsa.seasonal import seasonal_decompose\n",
    "decompose_ts_add = seasonal_decompose(df2.value,period=12)\n",
    "decompose_ts_add.plot()\n",
    "plt.show()"
   ]
  },
  {
   "cell_type": "markdown",
   "id": "37b0f513",
   "metadata": {
    "id": "37b0f513"
   },
   "source": [
    "**ARIMA and SARIMA Model**"
   ]
  },
  {
   "cell_type": "code",
   "execution_count": 114,
   "id": "8c6a95f8",
   "metadata": {
    "ExecuteTime": {
     "end_time": "2023-08-20T09:00:42.861617Z",
     "start_time": "2023-08-20T09:00:17.539621Z"
    },
    "executionInfo": {
     "elapsed": 59,
     "status": "aborted",
     "timestamp": 1691987278536,
     "user": {
      "displayName": "Lavkush Chaudhary",
      "userId": "01013648497488669597"
     },
     "user_tz": -330
    },
    "id": "8c6a95f8",
    "scrolled": false
   },
   "outputs": [
    {
     "name": "stderr",
     "output_type": "stream",
     "text": [
      "C:\\Users\\Shubhajinkya\\ANACONDA\\install2\\install\\lib\\site-packages\\statsmodels\\tsa\\base\\tsa_model.py:471: ValueWarning: No frequency information was provided, so inferred frequency B will be used.\n",
      "  self._init_dates(dates, freq)\n",
      "C:\\Users\\Shubhajinkya\\ANACONDA\\install2\\install\\lib\\site-packages\\statsmodels\\tsa\\base\\tsa_model.py:471: ValueWarning: No frequency information was provided, so inferred frequency B will be used.\n",
      "  self._init_dates(dates, freq)\n",
      "C:\\Users\\Shubhajinkya\\ANACONDA\\install2\\install\\lib\\site-packages\\statsmodels\\tsa\\base\\tsa_model.py:471: ValueWarning: No frequency information was provided, so inferred frequency B will be used.\n",
      "  self._init_dates(dates, freq)\n",
      "C:\\Users\\Shubhajinkya\\ANACONDA\\install2\\install\\lib\\site-packages\\statsmodels\\tsa\\base\\tsa_model.py:471: ValueWarning: No frequency information was provided, so inferred frequency B will be used.\n",
      "  self._init_dates(dates, freq)\n",
      "C:\\Users\\Shubhajinkya\\ANACONDA\\install2\\install\\lib\\site-packages\\statsmodels\\tsa\\base\\tsa_model.py:471: ValueWarning: No frequency information was provided, so inferred frequency B will be used.\n",
      "  self._init_dates(dates, freq)\n",
      "C:\\Users\\Shubhajinkya\\ANACONDA\\install2\\install\\lib\\site-packages\\statsmodels\\tsa\\base\\tsa_model.py:471: ValueWarning: No frequency information was provided, so inferred frequency B will be used.\n",
      "  self._init_dates(dates, freq)\n",
      "C:\\Users\\Shubhajinkya\\ANACONDA\\install2\\install\\lib\\site-packages\\statsmodels\\tsa\\base\\tsa_model.py:471: ValueWarning: No frequency information was provided, so inferred frequency B will be used.\n",
      "  self._init_dates(dates, freq)\n",
      "C:\\Users\\Shubhajinkya\\ANACONDA\\install2\\install\\lib\\site-packages\\statsmodels\\tsa\\base\\tsa_model.py:471: ValueWarning: No frequency information was provided, so inferred frequency B will be used.\n",
      "  self._init_dates(dates, freq)\n",
      "C:\\Users\\Shubhajinkya\\ANACONDA\\install2\\install\\lib\\site-packages\\statsmodels\\tsa\\base\\tsa_model.py:471: ValueWarning: No frequency information was provided, so inferred frequency B will be used.\n",
      "  self._init_dates(dates, freq)\n",
      "C:\\Users\\Shubhajinkya\\ANACONDA\\install2\\install\\lib\\site-packages\\statsmodels\\tsa\\base\\tsa_model.py:471: ValueWarning: No frequency information was provided, so inferred frequency B will be used.\n",
      "  self._init_dates(dates, freq)\n",
      "C:\\Users\\Shubhajinkya\\ANACONDA\\install2\\install\\lib\\site-packages\\statsmodels\\tsa\\base\\tsa_model.py:471: ValueWarning: No frequency information was provided, so inferred frequency B will be used.\n",
      "  self._init_dates(dates, freq)\n",
      "C:\\Users\\Shubhajinkya\\ANACONDA\\install2\\install\\lib\\site-packages\\statsmodels\\tsa\\base\\tsa_model.py:471: ValueWarning: No frequency information was provided, so inferred frequency B will be used.\n",
      "  self._init_dates(dates, freq)\n",
      "C:\\Users\\Shubhajinkya\\ANACONDA\\install2\\install\\lib\\site-packages\\statsmodels\\tsa\\base\\tsa_model.py:471: ValueWarning: No frequency information was provided, so inferred frequency B will be used.\n",
      "  self._init_dates(dates, freq)\n",
      "C:\\Users\\Shubhajinkya\\ANACONDA\\install2\\install\\lib\\site-packages\\statsmodels\\tsa\\base\\tsa_model.py:471: ValueWarning: No frequency information was provided, so inferred frequency B will be used.\n",
      "  self._init_dates(dates, freq)\n",
      "C:\\Users\\Shubhajinkya\\ANACONDA\\install2\\install\\lib\\site-packages\\statsmodels\\tsa\\base\\tsa_model.py:471: ValueWarning: No frequency information was provided, so inferred frequency B will be used.\n",
      "  self._init_dates(dates, freq)\n",
      "C:\\Users\\Shubhajinkya\\ANACONDA\\install2\\install\\lib\\site-packages\\statsmodels\\tsa\\base\\tsa_model.py:471: ValueWarning: No frequency information was provided, so inferred frequency B will be used.\n",
      "  self._init_dates(dates, freq)\n",
      "C:\\Users\\Shubhajinkya\\ANACONDA\\install2\\install\\lib\\site-packages\\statsmodels\\tsa\\base\\tsa_model.py:471: ValueWarning: No frequency information was provided, so inferred frequency B will be used.\n",
      "  self._init_dates(dates, freq)\n",
      "C:\\Users\\Shubhajinkya\\ANACONDA\\install2\\install\\lib\\site-packages\\statsmodels\\tsa\\base\\tsa_model.py:471: ValueWarning: No frequency information was provided, so inferred frequency B will be used.\n",
      "  self._init_dates(dates, freq)\n",
      "C:\\Users\\Shubhajinkya\\ANACONDA\\install2\\install\\lib\\site-packages\\statsmodels\\tsa\\base\\tsa_model.py:471: ValueWarning: No frequency information was provided, so inferred frequency B will be used.\n",
      "  self._init_dates(dates, freq)\n",
      "C:\\Users\\Shubhajinkya\\ANACONDA\\install2\\install\\lib\\site-packages\\statsmodels\\tsa\\base\\tsa_model.py:471: ValueWarning: No frequency information was provided, so inferred frequency B will be used.\n",
      "  self._init_dates(dates, freq)\n",
      "C:\\Users\\Shubhajinkya\\ANACONDA\\install2\\install\\lib\\site-packages\\statsmodels\\tsa\\base\\tsa_model.py:471: ValueWarning: No frequency information was provided, so inferred frequency B will be used.\n",
      "  self._init_dates(dates, freq)\n",
      "C:\\Users\\Shubhajinkya\\ANACONDA\\install2\\install\\lib\\site-packages\\statsmodels\\tsa\\base\\tsa_model.py:471: ValueWarning: No frequency information was provided, so inferred frequency B will be used.\n",
      "  self._init_dates(dates, freq)\n",
      "C:\\Users\\Shubhajinkya\\ANACONDA\\install2\\install\\lib\\site-packages\\statsmodels\\tsa\\base\\tsa_model.py:471: ValueWarning: No frequency information was provided, so inferred frequency B will be used.\n",
      "  self._init_dates(dates, freq)\n",
      "C:\\Users\\Shubhajinkya\\ANACONDA\\install2\\install\\lib\\site-packages\\statsmodels\\tsa\\base\\tsa_model.py:471: ValueWarning: No frequency information was provided, so inferred frequency B will be used.\n",
      "  self._init_dates(dates, freq)\n",
      "C:\\Users\\Shubhajinkya\\ANACONDA\\install2\\install\\lib\\site-packages\\statsmodels\\tsa\\base\\tsa_model.py:471: ValueWarning: No frequency information was provided, so inferred frequency B will be used.\n",
      "  self._init_dates(dates, freq)\n",
      "C:\\Users\\Shubhajinkya\\ANACONDA\\install2\\install\\lib\\site-packages\\statsmodels\\tsa\\base\\tsa_model.py:471: ValueWarning: No frequency information was provided, so inferred frequency B will be used.\n",
      "  self._init_dates(dates, freq)\n",
      "C:\\Users\\Shubhajinkya\\ANACONDA\\install2\\install\\lib\\site-packages\\statsmodels\\tsa\\base\\tsa_model.py:471: ValueWarning: No frequency information was provided, so inferred frequency B will be used.\n",
      "  self._init_dates(dates, freq)\n",
      "C:\\Users\\Shubhajinkya\\ANACONDA\\install2\\install\\lib\\site-packages\\statsmodels\\tsa\\base\\tsa_model.py:471: ValueWarning: No frequency information was provided, so inferred frequency B will be used.\n",
      "  self._init_dates(dates, freq)\n",
      "C:\\Users\\Shubhajinkya\\ANACONDA\\install2\\install\\lib\\site-packages\\statsmodels\\tsa\\base\\tsa_model.py:471: ValueWarning: No frequency information was provided, so inferred frequency B will be used.\n",
      "  self._init_dates(dates, freq)\n",
      "C:\\Users\\Shubhajinkya\\ANACONDA\\install2\\install\\lib\\site-packages\\statsmodels\\tsa\\base\\tsa_model.py:471: ValueWarning: No frequency information was provided, so inferred frequency B will be used.\n",
      "  self._init_dates(dates, freq)\n"
     ]
    },
    {
     "name": "stdout",
     "output_type": "stream",
     "text": [
      "Best ARIMA MAE: 21.82561094507349\n",
      "Best ARIMA Parameters: (1, 1, 0)\n"
     ]
    }
   ],
   "source": [
    "from statsmodels.tsa.arima.model import ARIMA\n",
    "from sklearn.metrics import mean_absolute_error, mean_squared_error\n",
    "import numpy as np\n",
    "from scipy.stats import randint\n",
    "\n",
    "# Define parameter ranges for random search\n",
    "param_dist = {\n",
    "    'p': randint(0, 3),\n",
    "    'd': randint(0, 2),\n",
    "    'q': randint(0, 3)\n",
    "}\n",
    "\n",
    "# Number of random search iterations\n",
    "n_iter = 10\n",
    "\n",
    "# Split the data into train and test sets\n",
    "train_size = int(len(df2) * 0.8)\n",
    "train_data = df2[:train_size]\n",
    "test_data = df2[train_size:]\n",
    "\n",
    "best_mae = float('inf')\n",
    "best_params = None\n",
    "\n",
    "# Perform random search\n",
    "for _ in range(n_iter):\n",
    "    try:\n",
    "        random_params = {param: dist.rvs() for param, dist in param_dist.items()}\n",
    "        order = (random_params['p'], random_params['d'], random_params['q'])\n",
    "\n",
    "        arima_model = ARIMA(train_data['value'], order=order)\n",
    "        arima_results = arima_model.fit()\n",
    "\n",
    "        arima_forecast = arima_results.forecast(steps=len(test_data))\n",
    "        arima_mae = mean_absolute_error(test_data['value'], arima_forecast)\n",
    "\n",
    "        if arima_mae < best_mae:\n",
    "            best_mae = arima_mae\n",
    "            best_params = order\n",
    "    except:\n",
    "        continue\n",
    "\n",
    "print(\"Best ARIMA MAE:\", best_mae)\n",
    "print(\"Best ARIMA Parameters:\", best_params)\n"
   ]
  },
  {
   "cell_type": "code",
   "execution_count": 115,
   "id": "6c823d88",
   "metadata": {
    "ExecuteTime": {
     "end_time": "2023-08-20T09:00:42.892867Z",
     "start_time": "2023-08-20T09:00:42.861617Z"
    },
    "executionInfo": {
     "elapsed": 59,
     "status": "aborted",
     "timestamp": 1691987278536,
     "user": {
      "displayName": "Lavkush Chaudhary",
      "userId": "01013648497488669597"
     },
     "user_tz": -330
    },
    "id": "6c823d88"
   },
   "outputs": [],
   "source": [
    "# You need to specify appropriate values for p, d, and q\n",
    "order = best_params"
   ]
  },
  {
   "cell_type": "code",
   "execution_count": 116,
   "id": "7e4caaed",
   "metadata": {
    "ExecuteTime": {
     "end_time": "2023-08-20T09:00:44.127323Z",
     "start_time": "2023-08-20T09:00:42.892867Z"
    },
    "executionInfo": {
     "elapsed": 60,
     "status": "aborted",
     "timestamp": 1691987278537,
     "user": {
      "displayName": "Lavkush Chaudhary",
      "userId": "01013648497488669597"
     },
     "user_tz": -330
    },
    "id": "7e4caaed"
   },
   "outputs": [
    {
     "name": "stderr",
     "output_type": "stream",
     "text": [
      "C:\\Users\\Shubhajinkya\\ANACONDA\\install2\\install\\lib\\site-packages\\statsmodels\\tsa\\base\\tsa_model.py:471: ValueWarning: No frequency information was provided, so inferred frequency B will be used.\n",
      "  self._init_dates(dates, freq)\n",
      "C:\\Users\\Shubhajinkya\\ANACONDA\\install2\\install\\lib\\site-packages\\statsmodels\\tsa\\base\\tsa_model.py:471: ValueWarning: No frequency information was provided, so inferred frequency B will be used.\n",
      "  self._init_dates(dates, freq)\n",
      "C:\\Users\\Shubhajinkya\\ANACONDA\\install2\\install\\lib\\site-packages\\statsmodels\\tsa\\base\\tsa_model.py:471: ValueWarning: No frequency information was provided, so inferred frequency B will be used.\n",
      "  self._init_dates(dates, freq)\n"
     ]
    }
   ],
   "source": [
    "# Initialize and fit the ARIMA model\n",
    "arima_model = ARIMA(train['value'], order=order)\n",
    "arima_results = arima_model.fit()"
   ]
  },
  {
   "cell_type": "code",
   "execution_count": 117,
   "id": "5f8b8e3f",
   "metadata": {
    "ExecuteTime": {
     "end_time": "2023-08-20T09:00:44.644829Z",
     "start_time": "2023-08-20T09:00:44.127323Z"
    },
    "executionInfo": {
     "elapsed": 59,
     "status": "aborted",
     "timestamp": 1691987278537,
     "user": {
      "displayName": "Lavkush Chaudhary",
      "userId": "01013648497488669597"
     },
     "user_tz": -330
    },
    "id": "5f8b8e3f"
   },
   "outputs": [],
   "source": [
    "arima_forecast = arima_results.forecast(steps=len(test))"
   ]
  },
  {
   "cell_type": "code",
   "execution_count": 118,
   "id": "5aff0e44",
   "metadata": {
    "ExecuteTime": {
     "end_time": "2023-08-20T09:00:44.679727Z",
     "start_time": "2023-08-20T09:00:44.644829Z"
    },
    "executionInfo": {
     "elapsed": 59,
     "status": "aborted",
     "timestamp": 1691987278537,
     "user": {
      "displayName": "Lavkush Chaudhary",
      "userId": "01013648497488669597"
     },
     "user_tz": -330
    },
    "id": "5aff0e44"
   },
   "outputs": [],
   "source": [
    "from sklearn.metrics import mean_absolute_error, mean_squared_error\n",
    "\n",
    "arima_mae = mean_absolute_error(test['value'], arima_forecast)\n",
    "arima_rmse = np.sqrt(mean_squared_error(test['value'], arima_forecast))"
   ]
  },
  {
   "cell_type": "code",
   "execution_count": 119,
   "id": "737422dd",
   "metadata": {
    "ExecuteTime": {
     "end_time": "2023-08-20T09:00:44.731925Z",
     "start_time": "2023-08-20T09:00:44.679727Z"
    },
    "executionInfo": {
     "elapsed": 60,
     "status": "aborted",
     "timestamp": 1691987278538,
     "user": {
      "displayName": "Lavkush Chaudhary",
      "userId": "01013648497488669597"
     },
     "user_tz": -330
    },
    "id": "737422dd"
   },
   "outputs": [
    {
     "data": {
      "text/html": [
       "<div>\n",
       "<style scoped>\n",
       "    .dataframe tbody tr th:only-of-type {\n",
       "        vertical-align: middle;\n",
       "    }\n",
       "\n",
       "    .dataframe tbody tr th {\n",
       "        vertical-align: top;\n",
       "    }\n",
       "\n",
       "    .dataframe thead th {\n",
       "        text-align: right;\n",
       "    }\n",
       "</style>\n",
       "<table border=\"1\" class=\"dataframe\">\n",
       "  <thead>\n",
       "    <tr style=\"text-align: right;\">\n",
       "      <th></th>\n",
       "      <th>Method</th>\n",
       "      <th>RMSE</th>\n",
       "    </tr>\n",
       "  </thead>\n",
       "  <tbody>\n",
       "    <tr>\n",
       "      <th>0</th>\n",
       "      <td>Linear method</td>\n",
       "      <td>40.897854</td>\n",
       "    </tr>\n",
       "    <tr>\n",
       "      <th>0</th>\n",
       "      <td>Exponential Model</td>\n",
       "      <td>68.083136</td>\n",
       "    </tr>\n",
       "    <tr>\n",
       "      <th>0</th>\n",
       "      <td>Quadratic Model</td>\n",
       "      <td>68.083136</td>\n",
       "    </tr>\n",
       "    <tr>\n",
       "      <th>0</th>\n",
       "      <td>Naive Model</td>\n",
       "      <td>30.020000</td>\n",
       "    </tr>\n",
       "    <tr>\n",
       "      <th>0</th>\n",
       "      <td>ARIMA</td>\n",
       "      <td>29.974126</td>\n",
       "    </tr>\n",
       "  </tbody>\n",
       "</table>\n",
       "</div>"
      ],
      "text/plain": [
       "              Method       RMSE\n",
       "0      Linear method  40.897854\n",
       "0  Exponential Model  68.083136\n",
       "0    Quadratic Model  68.083136\n",
       "0        Naive Model  30.020000\n",
       "0              ARIMA  29.974126"
      ]
     },
     "execution_count": 119,
     "metadata": {},
     "output_type": "execute_result"
    }
   ],
   "source": [
    "tempResults = pd.DataFrame({'Method':['ARIMA'], 'RMSE': [arima_rmse] })\n",
    "results = pd.concat([results, tempResults])\n",
    "results = results[['Method', 'RMSE']]\n",
    "results"
   ]
  },
  {
   "cell_type": "markdown",
   "id": "e146ee3d",
   "metadata": {
    "id": "e146ee3d"
   },
   "source": [
    "## LSTM Model"
   ]
  },
  {
   "cell_type": "code",
   "execution_count": 120,
   "id": "e882c4fa",
   "metadata": {
    "ExecuteTime": {
     "end_time": "2023-08-20T09:00:44.763175Z",
     "start_time": "2023-08-20T09:00:44.731925Z"
    },
    "executionInfo": {
     "elapsed": 60,
     "status": "aborted",
     "timestamp": 1691987278538,
     "user": {
      "displayName": "Lavkush Chaudhary",
      "userId": "01013648497488669597"
     },
     "user_tz": -330
    },
    "id": "e882c4fa"
   },
   "outputs": [],
   "source": [
    "scaler = MinMaxScaler()\n",
    "scaled_data = scaler.fit_transform(df2[['value']])"
   ]
  },
  {
   "cell_type": "code",
   "execution_count": 121,
   "id": "2d708c06",
   "metadata": {
    "ExecuteTime": {
     "end_time": "2023-08-20T09:00:44.778785Z",
     "start_time": "2023-08-20T09:00:44.763175Z"
    },
    "executionInfo": {
     "elapsed": 60,
     "status": "aborted",
     "timestamp": 1691987278538,
     "user": {
      "displayName": "Lavkush Chaudhary",
      "userId": "01013648497488669597"
     },
     "user_tz": -330
    },
    "id": "2d708c06"
   },
   "outputs": [],
   "source": [
    "sequence_length = 10"
   ]
  },
  {
   "cell_type": "code",
   "execution_count": 122,
   "id": "dbc6d520",
   "metadata": {
    "ExecuteTime": {
     "end_time": "2023-08-20T09:00:44.841310Z",
     "start_time": "2023-08-20T09:00:44.778785Z"
    },
    "executionInfo": {
     "elapsed": 60,
     "status": "aborted",
     "timestamp": 1691987278538,
     "user": {
      "displayName": "Lavkush Chaudhary",
      "userId": "01013648497488669597"
     },
     "user_tz": -330
    },
    "id": "dbc6d520"
   },
   "outputs": [],
   "source": [
    "sequences = []\n",
    "target = []\n",
    "for i in range(sequence_length, len(scaled_data)):\n",
    "    sequences.append(scaled_data[i - sequence_length:i, 0])\n",
    "    target.append(scaled_data[i, 0])\n",
    "\n",
    "X = np.array(sequences)\n",
    "y = np.array(target)\n",
    "\n",
    "# Split the data into train and test sets\n",
    "train_size = int(len(X) * 0.8)\n",
    "X_train, X_test = X[:train_size], X[train_size:]\n",
    "y_train, y_test = y[:train_size], y[train_size:]"
   ]
  },
  {
   "cell_type": "code",
   "execution_count": 123,
   "id": "2902f3ec",
   "metadata": {
    "ExecuteTime": {
     "end_time": "2023-08-20T09:02:29.018885Z",
     "start_time": "2023-08-20T09:00:44.841310Z"
    },
    "executionInfo": {
     "elapsed": 60,
     "status": "aborted",
     "timestamp": 1691987278539,
     "user": {
      "displayName": "Lavkush Chaudhary",
      "userId": "01013648497488669597"
     },
     "user_tz": -330
    },
    "id": "2902f3ec"
   },
   "outputs": [
    {
     "name": "stdout",
     "output_type": "stream",
     "text": [
      "Epoch 1/50\n",
      "237/237 [==============================] - 5s 9ms/step - loss: 0.0118\n",
      "Epoch 2/50\n",
      "237/237 [==============================] - 2s 9ms/step - loss: 2.1327e-04\n",
      "Epoch 3/50\n",
      "237/237 [==============================] - 2s 8ms/step - loss: 2.0333e-04\n",
      "Epoch 4/50\n",
      "237/237 [==============================] - 2s 8ms/step - loss: 1.8987e-04\n",
      "Epoch 5/50\n",
      "237/237 [==============================] - 2s 8ms/step - loss: 1.7405e-04\n",
      "Epoch 6/50\n",
      "237/237 [==============================] - 2s 9ms/step - loss: 1.6589e-04\n",
      "Epoch 7/50\n",
      "237/237 [==============================] - 2s 8ms/step - loss: 1.5125e-04\n",
      "Epoch 8/50\n",
      "237/237 [==============================] - 2s 8ms/step - loss: 1.4631e-04\n",
      "Epoch 9/50\n",
      "237/237 [==============================] - 2s 8ms/step - loss: 1.4406e-04\n",
      "Epoch 10/50\n",
      "237/237 [==============================] - 2s 8ms/step - loss: 1.2861e-04\n",
      "Epoch 11/50\n",
      "237/237 [==============================] - 2s 9ms/step - loss: 1.2380e-04\n",
      "Epoch 12/50\n",
      "237/237 [==============================] - 2s 9ms/step - loss: 1.2702e-04\n",
      "Epoch 13/50\n",
      "237/237 [==============================] - 2s 8ms/step - loss: 1.2277e-04\n",
      "Epoch 14/50\n",
      "237/237 [==============================] - 2s 8ms/step - loss: 1.1929e-04\n",
      "Epoch 15/50\n",
      "237/237 [==============================] - 2s 8ms/step - loss: 1.1508e-04\n",
      "Epoch 16/50\n",
      "237/237 [==============================] - 2s 8ms/step - loss: 1.1448e-04\n",
      "Epoch 17/50\n",
      "237/237 [==============================] - 2s 8ms/step - loss: 1.1482e-04\n",
      "Epoch 18/50\n",
      "237/237 [==============================] - 2s 8ms/step - loss: 1.1105e-04\n",
      "Epoch 19/50\n",
      "237/237 [==============================] - 2s 8ms/step - loss: 9.9734e-05\n",
      "Epoch 20/50\n",
      "237/237 [==============================] - 2s 8ms/step - loss: 9.9483e-05\n",
      "Epoch 21/50\n",
      "237/237 [==============================] - 2s 8ms/step - loss: 1.0217e-04\n",
      "Epoch 22/50\n",
      "237/237 [==============================] - 2s 8ms/step - loss: 1.0172e-04\n",
      "Epoch 23/50\n",
      "237/237 [==============================] - 2s 8ms/step - loss: 9.5050e-05\n",
      "Epoch 24/50\n",
      "237/237 [==============================] - 2s 8ms/step - loss: 9.6183e-05\n",
      "Epoch 25/50\n",
      "237/237 [==============================] - 2s 8ms/step - loss: 9.4985e-05\n",
      "Epoch 26/50\n",
      "237/237 [==============================] - 2s 8ms/step - loss: 8.6538e-05\n",
      "Epoch 27/50\n",
      "237/237 [==============================] - 2s 8ms/step - loss: 8.9819e-05\n",
      "Epoch 28/50\n",
      "237/237 [==============================] - 2s 8ms/step - loss: 9.2191e-05\n",
      "Epoch 29/50\n",
      "237/237 [==============================] - 2s 8ms/step - loss: 8.9851e-05\n",
      "Epoch 30/50\n",
      "237/237 [==============================] - 2s 8ms/step - loss: 8.2943e-05\n",
      "Epoch 31/50\n",
      "237/237 [==============================] - 2s 9ms/step - loss: 8.2824e-05\n",
      "Epoch 32/50\n",
      "237/237 [==============================] - 2s 8ms/step - loss: 8.3495e-05\n",
      "Epoch 33/50\n",
      "237/237 [==============================] - 2s 9ms/step - loss: 8.1737e-05\n",
      "Epoch 34/50\n",
      "237/237 [==============================] - 2s 9ms/step - loss: 8.1400e-05\n",
      "Epoch 35/50\n",
      "237/237 [==============================] - 2s 9ms/step - loss: 7.9083e-05\n",
      "Epoch 36/50\n",
      "237/237 [==============================] - 2s 9ms/step - loss: 8.0297e-05\n",
      "Epoch 37/50\n",
      "237/237 [==============================] - 2s 8ms/step - loss: 8.0493e-05\n",
      "Epoch 38/50\n",
      "237/237 [==============================] - 2s 8ms/step - loss: 7.6424e-05\n",
      "Epoch 39/50\n",
      "237/237 [==============================] - 2s 9ms/step - loss: 8.0738e-05\n",
      "Epoch 40/50\n",
      "237/237 [==============================] - 2s 9ms/step - loss: 7.5568e-05\n",
      "Epoch 41/50\n",
      "237/237 [==============================] - 2s 8ms/step - loss: 7.4039e-05\n",
      "Epoch 42/50\n",
      "237/237 [==============================] - 2s 8ms/step - loss: 7.2830e-05\n",
      "Epoch 43/50\n",
      "237/237 [==============================] - 2s 8ms/step - loss: 7.4507e-05\n",
      "Epoch 44/50\n",
      "237/237 [==============================] - 2s 8ms/step - loss: 7.0483e-05\n",
      "Epoch 45/50\n",
      "237/237 [==============================] - 2s 8ms/step - loss: 7.1048e-05\n",
      "Epoch 46/50\n",
      "237/237 [==============================] - 2s 8ms/step - loss: 6.8978e-05\n",
      "Epoch 47/50\n",
      "237/237 [==============================] - 2s 8ms/step - loss: 7.1124e-05\n",
      "Epoch 48/50\n",
      "237/237 [==============================] - 2s 8ms/step - loss: 7.1695e-05\n",
      "Epoch 49/50\n",
      "237/237 [==============================] - 2s 8ms/step - loss: 7.2086e-05\n",
      "Epoch 50/50\n",
      "237/237 [==============================] - 2s 8ms/step - loss: 7.1016e-05\n"
     ]
    },
    {
     "data": {
      "text/plain": [
       "<keras.src.callbacks.History at 0x19ac98246d0>"
      ]
     },
     "execution_count": 123,
     "metadata": {},
     "output_type": "execute_result"
    }
   ],
   "source": [
    "model = Sequential()\n",
    "model.add(LSTM(units=50, activation='relu', input_shape=(X_train.shape[1], 1)))\n",
    "model.add(Dense(units=1))\n",
    "model.compile(optimizer='adam', loss='mean_squared_error')\n",
    "model.fit(X_train, y_train, epochs=50, batch_size=32)\n"
   ]
  },
  {
   "cell_type": "code",
   "execution_count": 124,
   "id": "164b6f23",
   "metadata": {
    "ExecuteTime": {
     "end_time": "2023-08-20T09:02:29.907094Z",
     "start_time": "2023-08-20T09:02:29.018885Z"
    },
    "executionInfo": {
     "elapsed": 60,
     "status": "aborted",
     "timestamp": 1691987278539,
     "user": {
      "displayName": "Lavkush Chaudhary",
      "userId": "01013648497488669597"
     },
     "user_tz": -330
    },
    "id": "164b6f23"
   },
   "outputs": [
    {
     "name": "stdout",
     "output_type": "stream",
     "text": [
      "60/60 [==============================] - 1s 5ms/step\n",
      "LSTM MAE: 1.1467661900113915\n",
      "LSTM RMSE: 1.7359425888518754\n"
     ]
    }
   ],
   "source": [
    "# Predictions\n",
    "lstm_predictions = model.predict(X_test)\n",
    "lstm_predictions = scaler.inverse_transform(lstm_predictions)\n",
    "# Evaluate the LSTM model\n",
    "lstm_mae = mean_absolute_error(test['value'][-len(lstm_predictions):], lstm_predictions)\n",
    "lstm_rmse = np.sqrt(mean_squared_error(test['value'][-len(lstm_predictions):], lstm_predictions))\n",
    "print(\"LSTM MAE:\", lstm_mae)\n",
    "print(\"LSTM RMSE:\", lstm_rmse)"
   ]
  },
  {
   "cell_type": "code",
   "execution_count": 125,
   "id": "738ea9b1",
   "metadata": {
    "ExecuteTime": {
     "end_time": "2023-08-20T09:02:29.953991Z",
     "start_time": "2023-08-20T09:02:29.907094Z"
    },
    "executionInfo": {
     "elapsed": 61,
     "status": "aborted",
     "timestamp": 1691987278540,
     "user": {
      "displayName": "Lavkush Chaudhary",
      "userId": "01013648497488669597"
     },
     "user_tz": -330
    },
    "id": "738ea9b1"
   },
   "outputs": [
    {
     "data": {
      "text/html": [
       "<div>\n",
       "<style scoped>\n",
       "    .dataframe tbody tr th:only-of-type {\n",
       "        vertical-align: middle;\n",
       "    }\n",
       "\n",
       "    .dataframe tbody tr th {\n",
       "        vertical-align: top;\n",
       "    }\n",
       "\n",
       "    .dataframe thead th {\n",
       "        text-align: right;\n",
       "    }\n",
       "</style>\n",
       "<table border=\"1\" class=\"dataframe\">\n",
       "  <thead>\n",
       "    <tr style=\"text-align: right;\">\n",
       "      <th></th>\n",
       "      <th>Method</th>\n",
       "      <th>RMSE</th>\n",
       "    </tr>\n",
       "  </thead>\n",
       "  <tbody>\n",
       "    <tr>\n",
       "      <th>0</th>\n",
       "      <td>Linear method</td>\n",
       "      <td>40.897854</td>\n",
       "    </tr>\n",
       "    <tr>\n",
       "      <th>0</th>\n",
       "      <td>Exponential Model</td>\n",
       "      <td>68.083136</td>\n",
       "    </tr>\n",
       "    <tr>\n",
       "      <th>0</th>\n",
       "      <td>Quadratic Model</td>\n",
       "      <td>68.083136</td>\n",
       "    </tr>\n",
       "    <tr>\n",
       "      <th>0</th>\n",
       "      <td>Naive Model</td>\n",
       "      <td>30.020000</td>\n",
       "    </tr>\n",
       "    <tr>\n",
       "      <th>0</th>\n",
       "      <td>ARIMA</td>\n",
       "      <td>29.974126</td>\n",
       "    </tr>\n",
       "    <tr>\n",
       "      <th>0</th>\n",
       "      <td>LSTM</td>\n",
       "      <td>1.735943</td>\n",
       "    </tr>\n",
       "  </tbody>\n",
       "</table>\n",
       "</div>"
      ],
      "text/plain": [
       "              Method       RMSE\n",
       "0      Linear method  40.897854\n",
       "0  Exponential Model  68.083136\n",
       "0    Quadratic Model  68.083136\n",
       "0        Naive Model  30.020000\n",
       "0              ARIMA  29.974126\n",
       "0               LSTM   1.735943"
      ]
     },
     "execution_count": 125,
     "metadata": {},
     "output_type": "execute_result"
    }
   ],
   "source": [
    "tempResults = pd.DataFrame({'Method':['LSTM'], 'RMSE': [lstm_rmse] })\n",
    "results = pd.concat([results, tempResults])\n",
    "results = results[['Method', 'RMSE']]\n",
    "results"
   ]
  },
  {
   "cell_type": "markdown",
   "id": "83bea625",
   "metadata": {
    "id": "83bea625"
   },
   "source": [
    "## GRU"
   ]
  },
  {
   "cell_type": "code",
   "execution_count": 126,
   "id": "9837d385",
   "metadata": {
    "ExecuteTime": {
     "end_time": "2023-08-20T09:02:29.969600Z",
     "start_time": "2023-08-20T09:02:29.953991Z"
    },
    "executionInfo": {
     "elapsed": 61,
     "status": "aborted",
     "timestamp": 1691987278540,
     "user": {
      "displayName": "Lavkush Chaudhary",
      "userId": "01013648497488669597"
     },
     "user_tz": -330
    },
    "id": "9837d385"
   },
   "outputs": [],
   "source": [
    "from tensorflow.keras.layers import GRU"
   ]
  },
  {
   "cell_type": "code",
   "execution_count": 127,
   "id": "10336fda",
   "metadata": {
    "ExecuteTime": {
     "end_time": "2023-08-20T09:02:30.047733Z",
     "start_time": "2023-08-20T09:02:29.969600Z"
    },
    "executionInfo": {
     "elapsed": 62,
     "status": "aborted",
     "timestamp": 1691987278541,
     "user": {
      "displayName": "Lavkush Chaudhary",
      "userId": "01013648497488669597"
     },
     "user_tz": -330
    },
    "id": "10336fda"
   },
   "outputs": [],
   "source": [
    "scaler = MinMaxScaler()\n",
    "scaled_data = scaler.fit_transform(df2[['value']])\n",
    "\n",
    "sequence_length = 10\n",
    "sequences = []\n",
    "target = []\n",
    "for i in range(sequence_length, len(scaled_data)):\n",
    "    sequences.append(scaled_data[i - sequence_length:i, 0])\n",
    "    target.append(scaled_data[i, 0])\n",
    "\n",
    "X = np.array(sequences)\n",
    "y = np.array(target)\n",
    "\n",
    "train_size = int(len(X) * 0.8)\n",
    "X_train, X_test = X[:train_size], X[train_size:]\n",
    "y_train, y_test = y[:train_size], y[train_size:]"
   ]
  },
  {
   "cell_type": "code",
   "execution_count": 128,
   "id": "50bb7064",
   "metadata": {
    "ExecuteTime": {
     "end_time": "2023-08-20T09:04:09.834277Z",
     "start_time": "2023-08-20T09:02:30.047733Z"
    },
    "executionInfo": {
     "elapsed": 61,
     "status": "aborted",
     "timestamp": 1691987278541,
     "user": {
      "displayName": "Lavkush Chaudhary",
      "userId": "01013648497488669597"
     },
     "user_tz": -330
    },
    "id": "50bb7064"
   },
   "outputs": [
    {
     "name": "stdout",
     "output_type": "stream",
     "text": [
      "Epoch 1/50\n",
      "237/237 [==============================] - 5s 8ms/step - loss: 0.0080\n",
      "Epoch 2/50\n",
      "237/237 [==============================] - 2s 8ms/step - loss: 1.4021e-04\n",
      "Epoch 3/50\n",
      "237/237 [==============================] - 2s 8ms/step - loss: 1.3811e-04\n",
      "Epoch 4/50\n",
      "237/237 [==============================] - 2s 8ms/step - loss: 1.3058e-04\n",
      "Epoch 5/50\n",
      "237/237 [==============================] - 2s 8ms/step - loss: 1.2028e-04\n",
      "Epoch 6/50\n",
      "237/237 [==============================] - 2s 8ms/step - loss: 1.1622e-04\n",
      "Epoch 7/50\n",
      "237/237 [==============================] - 2s 8ms/step - loss: 1.1426e-04\n",
      "Epoch 8/50\n",
      "237/237 [==============================] - 2s 8ms/step - loss: 1.0788e-04\n",
      "Epoch 9/50\n",
      "237/237 [==============================] - 2s 8ms/step - loss: 1.0242e-04\n",
      "Epoch 10/50\n",
      "237/237 [==============================] - 2s 8ms/step - loss: 9.8394e-05\n",
      "Epoch 11/50\n",
      "237/237 [==============================] - 2s 8ms/step - loss: 9.3822e-05\n",
      "Epoch 12/50\n",
      "237/237 [==============================] - 2s 8ms/step - loss: 9.2180e-05\n",
      "Epoch 13/50\n",
      "237/237 [==============================] - 2s 8ms/step - loss: 8.6375e-05\n",
      "Epoch 14/50\n",
      "237/237 [==============================] - 2s 8ms/step - loss: 8.2723e-05\n",
      "Epoch 15/50\n",
      "237/237 [==============================] - 2s 8ms/step - loss: 8.1835e-05\n",
      "Epoch 16/50\n",
      "237/237 [==============================] - 2s 8ms/step - loss: 8.3747e-05\n",
      "Epoch 17/50\n",
      "237/237 [==============================] - 2s 8ms/step - loss: 8.0373e-05\n",
      "Epoch 18/50\n",
      "237/237 [==============================] - 2s 8ms/step - loss: 7.8958e-05\n",
      "Epoch 19/50\n",
      "237/237 [==============================] - 2s 8ms/step - loss: 7.7584e-05\n",
      "Epoch 20/50\n",
      "237/237 [==============================] - 2s 8ms/step - loss: 7.7022e-05\n",
      "Epoch 21/50\n",
      "237/237 [==============================] - 2s 8ms/step - loss: 7.7843e-05\n",
      "Epoch 22/50\n",
      "237/237 [==============================] - 2s 8ms/step - loss: 7.6481e-05\n",
      "Epoch 23/50\n",
      "237/237 [==============================] - 2s 8ms/step - loss: 7.1456e-05\n",
      "Epoch 24/50\n",
      "237/237 [==============================] - 2s 8ms/step - loss: 7.6009e-05\n",
      "Epoch 25/50\n",
      "237/237 [==============================] - 2s 8ms/step - loss: 7.5811e-05\n",
      "Epoch 26/50\n",
      "237/237 [==============================] - 2s 8ms/step - loss: 7.8585e-05\n",
      "Epoch 27/50\n",
      "237/237 [==============================] - 2s 8ms/step - loss: 7.0445e-05\n",
      "Epoch 28/50\n",
      "237/237 [==============================] - 2s 8ms/step - loss: 6.8553e-05\n",
      "Epoch 29/50\n",
      "237/237 [==============================] - 2s 8ms/step - loss: 7.1457e-05\n",
      "Epoch 30/50\n",
      "237/237 [==============================] - 2s 8ms/step - loss: 7.2795e-05\n",
      "Epoch 31/50\n",
      "237/237 [==============================] - 2s 8ms/step - loss: 6.7598e-05\n",
      "Epoch 32/50\n",
      "237/237 [==============================] - 2s 8ms/step - loss: 6.8616e-05\n",
      "Epoch 33/50\n",
      "237/237 [==============================] - 2s 8ms/step - loss: 6.7440e-05\n",
      "Epoch 34/50\n",
      "237/237 [==============================] - 2s 10ms/step - loss: 7.2049e-05\n",
      "Epoch 35/50\n",
      "237/237 [==============================] - 2s 8ms/step - loss: 6.6682e-05\n",
      "Epoch 36/50\n",
      "237/237 [==============================] - 2s 8ms/step - loss: 7.2153e-05\n",
      "Epoch 37/50\n",
      "237/237 [==============================] - 2s 8ms/step - loss: 6.8258e-05\n",
      "Epoch 38/50\n",
      "237/237 [==============================] - 2s 8ms/step - loss: 7.1116e-05\n",
      "Epoch 39/50\n",
      "237/237 [==============================] - 2s 8ms/step - loss: 7.1299e-05\n",
      "Epoch 40/50\n",
      "237/237 [==============================] - 2s 8ms/step - loss: 6.8386e-05\n",
      "Epoch 41/50\n",
      "237/237 [==============================] - 2s 8ms/step - loss: 6.8244e-05\n",
      "Epoch 42/50\n",
      "237/237 [==============================] - 2s 8ms/step - loss: 6.7931e-05\n",
      "Epoch 43/50\n",
      "237/237 [==============================] - 2s 8ms/step - loss: 7.4548e-05\n",
      "Epoch 44/50\n",
      "237/237 [==============================] - 2s 8ms/step - loss: 6.7799e-05\n",
      "Epoch 45/50\n",
      "237/237 [==============================] - 2s 8ms/step - loss: 6.7432e-05\n",
      "Epoch 46/50\n",
      "237/237 [==============================] - 2s 8ms/step - loss: 6.5576e-05\n",
      "Epoch 47/50\n",
      "237/237 [==============================] - 2s 8ms/step - loss: 6.7740e-05\n",
      "Epoch 48/50\n",
      "237/237 [==============================] - 2s 8ms/step - loss: 6.6911e-05\n",
      "Epoch 49/50\n",
      "237/237 [==============================] - 2s 8ms/step - loss: 6.7823e-05\n",
      "Epoch 50/50\n",
      "237/237 [==============================] - 2s 8ms/step - loss: 6.7379e-05\n"
     ]
    },
    {
     "data": {
      "text/plain": [
       "<keras.src.callbacks.History at 0x19ac4e3ce50>"
      ]
     },
     "execution_count": 128,
     "metadata": {},
     "output_type": "execute_result"
    }
   ],
   "source": [
    "model_gru = Sequential()\n",
    "model_gru.add(GRU(units=50, activation='relu', input_shape=(X_train.shape[1], 1)))\n",
    "model_gru.add(Dense(units=1))\n",
    "model_gru.compile(optimizer='adam', loss='mean_squared_error')\n",
    "model_gru.fit(X_train, y_train, epochs=50, batch_size=32)"
   ]
  },
  {
   "cell_type": "code",
   "execution_count": 129,
   "id": "10aab161",
   "metadata": {
    "ExecuteTime": {
     "end_time": "2023-08-20T09:04:10.621993Z",
     "start_time": "2023-08-20T09:04:09.834277Z"
    },
    "executionInfo": {
     "elapsed": 61,
     "status": "aborted",
     "timestamp": 1691987278542,
     "user": {
      "displayName": "Lavkush Chaudhary",
      "userId": "01013648497488669597"
     },
     "user_tz": -330
    },
    "id": "10aab161"
   },
   "outputs": [
    {
     "name": "stdout",
     "output_type": "stream",
     "text": [
      "60/60 [==============================] - 1s 5ms/step\n",
      "GRU MAE: 1.1658611887078112\n",
      "GRU RMSE: 1.724288557652676\n"
     ]
    }
   ],
   "source": [
    "#predictions\n",
    "gru_predictions = model_gru.predict(X_test)\n",
    "gru_predictions = scaler.inverse_transform(gru_predictions)\n",
    "\n",
    "gru_mae = mean_absolute_error(test['value'][-len(gru_predictions):], gru_predictions)\n",
    "gru_rmse = np.sqrt(mean_squared_error(test['value'][-len(gru_predictions):], gru_predictions))\n",
    "\n",
    "print(\"GRU MAE:\", gru_mae)\n",
    "print(\"GRU RMSE:\", gru_rmse)"
   ]
  },
  {
   "cell_type": "code",
   "execution_count": 130,
   "id": "7577a5cc",
   "metadata": {
    "ExecuteTime": {
     "end_time": "2023-08-20T09:04:10.653242Z",
     "start_time": "2023-08-20T09:04:10.621993Z"
    },
    "executionInfo": {
     "elapsed": 61,
     "status": "aborted",
     "timestamp": 1691987278542,
     "user": {
      "displayName": "Lavkush Chaudhary",
      "userId": "01013648497488669597"
     },
     "user_tz": -330
    },
    "id": "7577a5cc"
   },
   "outputs": [
    {
     "data": {
      "text/html": [
       "<div>\n",
       "<style scoped>\n",
       "    .dataframe tbody tr th:only-of-type {\n",
       "        vertical-align: middle;\n",
       "    }\n",
       "\n",
       "    .dataframe tbody tr th {\n",
       "        vertical-align: top;\n",
       "    }\n",
       "\n",
       "    .dataframe thead th {\n",
       "        text-align: right;\n",
       "    }\n",
       "</style>\n",
       "<table border=\"1\" class=\"dataframe\">\n",
       "  <thead>\n",
       "    <tr style=\"text-align: right;\">\n",
       "      <th></th>\n",
       "      <th>Method</th>\n",
       "      <th>RMSE</th>\n",
       "    </tr>\n",
       "  </thead>\n",
       "  <tbody>\n",
       "    <tr>\n",
       "      <th>0</th>\n",
       "      <td>Linear method</td>\n",
       "      <td>40.897854</td>\n",
       "    </tr>\n",
       "    <tr>\n",
       "      <th>0</th>\n",
       "      <td>Exponential Model</td>\n",
       "      <td>68.083136</td>\n",
       "    </tr>\n",
       "    <tr>\n",
       "      <th>0</th>\n",
       "      <td>Quadratic Model</td>\n",
       "      <td>68.083136</td>\n",
       "    </tr>\n",
       "    <tr>\n",
       "      <th>0</th>\n",
       "      <td>Naive Model</td>\n",
       "      <td>30.020000</td>\n",
       "    </tr>\n",
       "    <tr>\n",
       "      <th>0</th>\n",
       "      <td>ARIMA</td>\n",
       "      <td>29.974126</td>\n",
       "    </tr>\n",
       "    <tr>\n",
       "      <th>0</th>\n",
       "      <td>LSTM</td>\n",
       "      <td>1.735943</td>\n",
       "    </tr>\n",
       "    <tr>\n",
       "      <th>0</th>\n",
       "      <td>GRU</td>\n",
       "      <td>1.724289</td>\n",
       "    </tr>\n",
       "  </tbody>\n",
       "</table>\n",
       "</div>"
      ],
      "text/plain": [
       "              Method       RMSE\n",
       "0      Linear method  40.897854\n",
       "0  Exponential Model  68.083136\n",
       "0    Quadratic Model  68.083136\n",
       "0        Naive Model  30.020000\n",
       "0              ARIMA  29.974126\n",
       "0               LSTM   1.735943\n",
       "0                GRU   1.724289"
      ]
     },
     "execution_count": 130,
     "metadata": {},
     "output_type": "execute_result"
    }
   ],
   "source": [
    "tempResults = pd.DataFrame({'Method':['GRU'], 'RMSE': [gru_rmse] })\n",
    "results = pd.concat([results, tempResults])\n",
    "results = results[['Method', 'RMSE']]\n",
    "results"
   ]
  },
  {
   "cell_type": "code",
   "execution_count": 131,
   "id": "a1f84fe4",
   "metadata": {
    "ExecuteTime": {
     "end_time": "2023-08-20T09:04:10.684474Z",
     "start_time": "2023-08-20T09:04:10.653242Z"
    },
    "executionInfo": {
     "elapsed": 61,
     "status": "aborted",
     "timestamp": 1691987278543,
     "user": {
      "displayName": "Lavkush Chaudhary",
      "userId": "01013648497488669597"
     },
     "user_tz": -330
    },
    "id": "a1f84fe4"
   },
   "outputs": [
    {
     "name": "stdout",
     "output_type": "stream",
     "text": [
      "Naive Forecast MAE: 0.741126626467788\n",
      "Naive Forecast RMSE: 1.2105462160195377\n"
     ]
    }
   ],
   "source": [
    "# Calculate Naive Forecast\n",
    "data['Naive_Forecast'] = df2['value'].shift(1)\n",
    "# Calculate Mean Absolute Error (MAE) and Root Mean Squared Error (RMSE)\n",
    "from sklearn.metrics import mean_absolute_error, mean_squared_error\n",
    "naive_mae = mean_absolute_error(df2['value'].iloc[1:], data['Naive_Forecast'].iloc[1:])\n",
    "naive_rmse = np.sqrt(mean_squared_error(df2['value'].iloc[1:], data['Naive_Forecast'].iloc[1:]))\n",
    "\n",
    "print(\"Naive Forecast MAE:\", naive_mae)\n",
    "print(\"Naive Forecast RMSE:\", naive_rmse)\n",
    "\n"
   ]
  },
  {
   "cell_type": "code",
   "execution_count": 132,
   "id": "964cbfb7",
   "metadata": {
    "ExecuteTime": {
     "end_time": "2023-08-20T09:04:10.715742Z",
     "start_time": "2023-08-20T09:04:10.684474Z"
    },
    "executionInfo": {
     "elapsed": 62,
     "status": "aborted",
     "timestamp": 1691987278544,
     "user": {
      "displayName": "Lavkush Chaudhary",
      "userId": "01013648497488669597"
     },
     "user_tz": -330
    },
    "id": "964cbfb7",
    "scrolled": true
   },
   "outputs": [
    {
     "data": {
      "text/html": [
       "<div>\n",
       "<style scoped>\n",
       "    .dataframe tbody tr th:only-of-type {\n",
       "        vertical-align: middle;\n",
       "    }\n",
       "\n",
       "    .dataframe tbody tr th {\n",
       "        vertical-align: top;\n",
       "    }\n",
       "\n",
       "    .dataframe thead th {\n",
       "        text-align: right;\n",
       "    }\n",
       "</style>\n",
       "<table border=\"1\" class=\"dataframe\">\n",
       "  <thead>\n",
       "    <tr style=\"text-align: right;\">\n",
       "      <th></th>\n",
       "      <th>Method</th>\n",
       "      <th>RMSE</th>\n",
       "    </tr>\n",
       "  </thead>\n",
       "  <tbody>\n",
       "    <tr>\n",
       "      <th>0</th>\n",
       "      <td>Linear method</td>\n",
       "      <td>40.897854</td>\n",
       "    </tr>\n",
       "    <tr>\n",
       "      <th>0</th>\n",
       "      <td>Exponential Model</td>\n",
       "      <td>68.083136</td>\n",
       "    </tr>\n",
       "    <tr>\n",
       "      <th>0</th>\n",
       "      <td>Quadratic Model</td>\n",
       "      <td>68.083136</td>\n",
       "    </tr>\n",
       "    <tr>\n",
       "      <th>0</th>\n",
       "      <td>Naive Model</td>\n",
       "      <td>30.020000</td>\n",
       "    </tr>\n",
       "    <tr>\n",
       "      <th>0</th>\n",
       "      <td>ARIMA</td>\n",
       "      <td>29.974126</td>\n",
       "    </tr>\n",
       "    <tr>\n",
       "      <th>0</th>\n",
       "      <td>LSTM</td>\n",
       "      <td>1.735943</td>\n",
       "    </tr>\n",
       "    <tr>\n",
       "      <th>0</th>\n",
       "      <td>GRU</td>\n",
       "      <td>1.724289</td>\n",
       "    </tr>\n",
       "    <tr>\n",
       "      <th>0</th>\n",
       "      <td>Naive</td>\n",
       "      <td>1.210546</td>\n",
       "    </tr>\n",
       "  </tbody>\n",
       "</table>\n",
       "</div>"
      ],
      "text/plain": [
       "              Method       RMSE\n",
       "0      Linear method  40.897854\n",
       "0  Exponential Model  68.083136\n",
       "0    Quadratic Model  68.083136\n",
       "0        Naive Model  30.020000\n",
       "0              ARIMA  29.974126\n",
       "0               LSTM   1.735943\n",
       "0                GRU   1.724289\n",
       "0              Naive   1.210546"
      ]
     },
     "execution_count": 132,
     "metadata": {},
     "output_type": "execute_result"
    }
   ],
   "source": [
    "tempResults = pd.DataFrame({'Method':['Naive'], 'RMSE': [naive_rmse] })\n",
    "results = pd.concat([results, tempResults])\n",
    "results = results[['Method', 'RMSE']]\n",
    "results"
   ]
  },
  {
   "cell_type": "markdown",
   "id": "1ecedd22",
   "metadata": {},
   "source": [
    "### Saving the `GRU` Model"
   ]
  },
  {
   "cell_type": "code",
   "execution_count": 133,
   "id": "33f45310",
   "metadata": {
    "ExecuteTime": {
     "end_time": "2023-08-20T09:04:10.731352Z",
     "start_time": "2023-08-20T09:04:10.715742Z"
    }
   },
   "outputs": [],
   "source": [
    "import pickle"
   ]
  },
  {
   "cell_type": "code",
   "execution_count": 134,
   "id": "2f390e80",
   "metadata": {
    "ExecuteTime": {
     "end_time": "2023-08-20T09:04:10.825113Z",
     "start_time": "2023-08-20T09:04:10.731352Z"
    },
    "scrolled": true
   },
   "outputs": [
    {
     "name": "stderr",
     "output_type": "stream",
     "text": [
      "C:\\Users\\Shubhajinkya\\ANACONDA\\install2\\install\\lib\\site-packages\\keras\\src\\engine\\training.py:3000: UserWarning: You are saving your model as an HDF5 file via `model.save()`. This file format is considered legacy. We recommend using instead the native Keras format, e.g. `model.save('my_model.keras')`.\n",
      "  saving_api.save_model(\n"
     ]
    }
   ],
   "source": [
    "# Save the entire model to an .h5 file\n",
    "model_gru.save('trained_model.h5')"
   ]
  },
  {
   "cell_type": "code",
   "execution_count": 135,
   "id": "0a1a44af",
   "metadata": {
    "ExecuteTime": {
     "end_time": "2023-08-20T09:04:10.840757Z",
     "start_time": "2023-08-20T09:04:10.825113Z"
    }
   },
   "outputs": [],
   "source": [
    "# Save the scaler using pickle\n",
    "with open('scaler.pkl', 'wb') as scaler_file:\n",
    "    pickle.dump(scaler, scaler_file)"
   ]
  },
  {
   "cell_type": "code",
   "execution_count": 136,
   "id": "53f5bfe1",
   "metadata": {
    "ExecuteTime": {
     "end_time": "2023-08-20T09:04:10.871990Z",
     "start_time": "2023-08-20T09:04:10.840757Z"
    }
   },
   "outputs": [],
   "source": [
    "# Save only the model weights\n",
    "model_gru.save_weights('gru_model_weights.h5')"
   ]
  },
  {
   "cell_type": "code",
   "execution_count": 137,
   "id": "0af228b2",
   "metadata": {
    "ExecuteTime": {
     "end_time": "2023-08-20T09:04:11.090771Z",
     "start_time": "2023-08-20T09:04:10.871990Z"
    }
   },
   "outputs": [],
   "source": [
    "df2. to_csv('dataset.csv', index=True)"
   ]
  },
  {
   "cell_type": "code",
   "execution_count": null,
   "id": "da85a0cd",
   "metadata": {},
   "outputs": [],
   "source": []
  }
 ],
 "metadata": {
  "colab": {
   "provenance": []
  },
  "kernelspec": {
   "display_name": "Python 3 (ipykernel)",
   "language": "python",
   "name": "python3"
  },
  "language_info": {
   "codemirror_mode": {
    "name": "ipython",
    "version": 3
   },
   "file_extension": ".py",
   "mimetype": "text/x-python",
   "name": "python",
   "nbconvert_exporter": "python",
   "pygments_lexer": "ipython3",
   "version": "3.10.9"
  }
 },
 "nbformat": 4,
 "nbformat_minor": 5
}
